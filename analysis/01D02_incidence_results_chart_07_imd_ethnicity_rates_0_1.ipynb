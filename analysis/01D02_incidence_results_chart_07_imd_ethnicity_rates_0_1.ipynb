{
  "cells": [
    {
      "cell_type": "markdown",
      "metadata": {
        "nteract": {
          "transient": {
            "deleting": false
          }
        }
      },
      "source": [
        "### **01 - Incidence of MLTC**\n",
        "#### **01D02 - Manuscript outputs - age standardisation outputs**\n",
        "\n",
        "**Chart**: Progression rates by IMD and ethnicity - 0 to 1+ conditions"
      ]
    },
    {
      "cell_type": "markdown",
      "metadata": {
        "nteract": {
          "transient": {
            "deleting": false
          }
        }
      },
      "source": [
        "**Imports**"
      ]
    },
    {
      "cell_type": "code",
      "execution_count": 1,
      "metadata": {
        "jupyter": {
          "outputs_hidden": false,
          "source_hidden": false
        },
        "microsoft": {
          "language": "python"
        },
        "nteract": {
          "transient": {
            "deleting": false
          }
        }
      },
      "outputs": [],
      "source": [
        "%%pyspark\n",
        "# required imports\n",
        "\n",
        "# requires blank line after last import\n"
      ]
    },
    {
      "cell_type": "code",
      "execution_count": 2,
      "metadata": {
        "jupyter": {
          "outputs_hidden": false,
          "source_hidden": false
        },
        "microsoft": {
          "language": "r"
        },
        "nteract": {
          "transient": {
            "deleting": false
          }
        }
      },
      "outputs": [],
      "source": [
        "%%sparkr\n",
        "\n",
        "if (!requireNamespace(\"svglite\", quietly = TRUE)) {\n",
        "  install.packages(\"svglite\")\n",
        "}"
      ]
    },
    {
      "cell_type": "code",
      "execution_count": 2,
      "metadata": {
        "jupyter": {
          "outputs_hidden": false,
          "source_hidden": false
        },
        "nteract": {
          "transient": {
            "deleting": false
          }
        }
      },
      "outputs": [],
      "source": [
        "# Load necessary libraries\n",
        "library(SparkR)\n",
        "library(ggplot2)\n",
        "library(patchwork)\n",
        "library(svglite)\n",
        "library(stringr)"
      ]
    },
    {
      "cell_type": "markdown",
      "metadata": {
        "nteract": {
          "transient": {
            "deleting": false
          }
        }
      },
      "source": [
        "**Parameter cell**"
      ]
    },
    {
      "cell_type": "code",
      "execution_count": 3,
      "metadata": {
        "jupyter": {
          "outputs_hidden": false,
          "source_hidden": false
        },
        "microsoft": {
          "language": "python"
        },
        "nteract": {
          "transient": {
            "deleting": false
          }
        },
        "tags": [
          "parameters"
        ]
      },
      "outputs": [],
      "source": [
        "%%pyspark\n",
        "# parameter cell\n",
        "incidence_schema = \"\"  # \"mltc_incidence_outputs_v40_20230331\"\n",
        "\n",
        "# optional, can be blank\n"
      ]
    },
    {
      "cell_type": "code",
      "execution_count": 4,
      "metadata": {
        "jupyter": {
          "outputs_hidden": false,
          "source_hidden": false
        },
        "microsoft": {
          "language": "python"
        },
        "nteract": {
          "transient": {
            "deleting": false
          }
        }
      },
      "outputs": [],
      "source": [
        "%%pyspark\n",
        "# Set parameters in Spark configuration with 'param.' prefix (for use in SQL cells)\n",
        "spark.conf.set(\"param.incidence_schema\", incidence_schema)\n"
      ]
    },
    {
      "cell_type": "markdown",
      "metadata": {
        "nteract": {
          "transient": {
            "deleting": false
          }
        }
      },
      "source": [
        "---\n",
        "\n",
        "#### **Creating the plot**"
      ]
    },
    {
      "cell_type": "markdown",
      "metadata": {
        "nteract": {
          "transient": {
            "deleting": false
          }
        }
      },
      "source": [
        "**a - Load data**"
      ]
    },
    {
      "cell_type": "code",
      "execution_count": 5,
      "metadata": {
        "jupyter": {
          "outputs_hidden": false,
          "source_hidden": false
        },
        "nteract": {
          "transient": {
            "deleting": false
          }
        }
      },
      "outputs": [],
      "source": [
        "data <- sql(\"SELECT * FROM ${param.incidence_schema}.output_01d02_incidence_results_age_standardisation_ethnicity_imd\")"
      ]
    },
    {
      "cell_type": "markdown",
      "metadata": {
        "nteract": {
          "transient": {
            "deleting": false
          }
        }
      },
      "source": [
        "**b - Create plot**"
      ]
    },
    {
      "cell_type": "markdown",
      "metadata": {
        "nteract": {
          "transient": {
            "deleting": false
          }
        }
      },
      "source": [
        "Data cleaning steps"
      ]
    },
    {
      "cell_type": "code",
      "execution_count": 6,
      "metadata": {},
      "outputs": [],
      "source": [
        "# Convert progression rates to numeric\n",
        "data <- withColumn(data, \"progression_rate_0_1_plus\", \n",
        "                   cast(data$progression_rate_0_1_plus, \"double\"))\n",
        "data <- withColumn(data, \"progression_rate_1_2_plus\", \n",
        "                   cast(data$progression_rate_1_2_plus, \"double\"))\n",
        "data <- withColumn(data, \"progression_rate_2_3_plus\", \n",
        "                   cast(data$progression_rate_2_3_plus, \"double\"))\n",
        "\n",
        "# Convert confidence intervals to numeric\n",
        "data <- withColumn(data, \"lower_cl_0_1\", \n",
        "                   cast(data$lower_cl_0_1, \"double\"))\n",
        "data <- withColumn(data, \"upper_cl_0_1\", \n",
        "                   cast(data$upper_cl_0_1, \"double\"))\n",
        "data <- withColumn(data, \"lower_cl_1_2\", \n",
        "                   cast(data$lower_cl_1_2, \"double\"))\n",
        "data <- withColumn(data, \"upper_cl_1_2\", \n",
        "                   cast(data$upper_cl_1_2, \"double\"))\n",
        "data <- withColumn(data, \"lower_cl_2_3\", \n",
        "                   cast(data$lower_cl_2_3, \"double\"))\n",
        "data <- withColumn(data, \"upper_cl_2_3\", \n",
        "                   cast(data$upper_cl_2_3, \"double\"))\n",
        "\n",
        "# Update ethnicity labels\n",
        "data <- withColumn(data, \"ethnicity\",\n",
        "                   regexp_replace(data$ethnicity, \"Asian or Asian British\", \"Asian\"))\n",
        "data <- withColumn(data, \"ethnicity\",\n",
        "                   regexp_replace(data$ethnicity, \"Black, African, Caribbean or Black British\", \"Black\"))\n",
        "data <- withColumn(data, \"ethnicity\",\n",
        "                   regexp_replace(data$ethnicity, \"Mixed or Multiple ethnic groups\", \"Mixed\"))\n",
        "data <- withColumn(data, \"ethnicity\",\n",
        "                   regexp_replace(data$ethnicity, \"Other ethnic group\", \"Other\"))\n",
        "\n",
        "# Filter data\n",
        "female_data <- SparkR::filter(data, \n",
        "                              data$gender_description == \"FEMALE\" & \n",
        "                              data$IMD != \"Unknown\" &\n",
        "                              data$ethnicity != \"Unknown\")\n",
        "\n",
        "male_data <- SparkR::filter(data, \n",
        "                            data$gender_description == \"MALE\" & \n",
        "                              data$IMD != \"Unknown\" &\n",
        "                              data$ethnicity != \"Unknown\")"
      ]
    },
    {
      "cell_type": "markdown",
      "metadata": {
        "nteract": {
          "transient": {
            "deleting": false
          }
        }
      },
      "source": [
        "Unpivot data for easier charting"
      ]
    },
    {
      "cell_type": "code",
      "execution_count": 7,
      "metadata": {
        "jupyter": {
          "outputs_hidden": false,
          "source_hidden": false
        },
        "nteract": {
          "transient": {
            "deleting": false
          }
        }
      },
      "outputs": [],
      "source": [
        "# Reshape female data\n",
        "female_long <- SparkR::select(female_data, \n",
        "                                  female_data$IMD,\n",
        "                                  female_data$ethnicity,\n",
        "                                  alias(female_data$progression_rate_0_1_plus, \"Value\"),\n",
        "                                  alias(lit(\"0 to 1+ conditions\"), \"Progression_Rate\"),\n",
        "                                  alias(female_data$lower_cl_0_1, \"Lower_CL\"),\n",
        "                                  alias(female_data$upper_cl_0_1, \"Upper_CL\"))\n",
        "\n",
        "# Reshape male data\n",
        "male_long <- SparkR::select(male_data, \n",
        "                                male_data$IMD,\n",
        "                                male_data$ethnicity,\n",
        "                                alias(male_data$progression_rate_0_1_plus, \"Value\"),\n",
        "                                alias(lit(\"0 to 1+ conditions\"), \"Progression_Rate\"),\n",
        "                                alias(male_data$lower_cl_0_1, \"Lower_CL\"),\n",
        "                                alias(male_data$upper_cl_0_1, \"Upper_CL\"))"
      ]
    },
    {
      "cell_type": "markdown",
      "metadata": {
        "nteract": {
          "transient": {
            "deleting": false
          }
        }
      },
      "source": [
        "Create R data frames"
      ]
    },
    {
      "cell_type": "code",
      "execution_count": 8,
      "metadata": {
        "jupyter": {
          "outputs_hidden": false,
          "source_hidden": false
        },
        "nteract": {
          "transient": {
            "deleting": false
          }
        }
      },
      "outputs": [],
      "source": [
        "# Collect the data into local data frames for plotting\n",
        "female_long_local <- SparkR::collect(female_long)\n",
        "male_long_local <- SparkR::collect(male_long)"
      ]
    },
    {
      "cell_type": "markdown",
      "metadata": {
        "nteract": {
          "transient": {
            "deleting": false
          }
        }
      },
      "source": [
        "Create charts"
      ]
    },
    {
      "cell_type": "code",
      "execution_count": 9,
      "metadata": {
        "jupyter": {
          "outputs_hidden": false,
          "source_hidden": false
        },
        "nteract": {
          "transient": {
            "deleting": false
          }
        }
      },
      "outputs": [],
      "source": [
        "# Wrap the x-axis labels using str_wrap\n",
        "female_long_local$ethnicity <- str_wrap(female_long_local$ethnicity, width = 15)\n",
        "male_long_local$ethnicity <- str_wrap(male_long_local$ethnicity, width = 15)\n",
        "\n",
        "# Calculate the maximum value for the y-axis across both datasets\n",
        "max_value <- max(c(female_long_local$Upper_CL, male_long_local$Upper_CL), na.rm = TRUE) * 1.1\n",
        "\n",
        "# Create the plot for Female\n",
        "plot_female <- ggplot(female_long_local, aes(x = ethnicity, y = Value, fill = IMD)) +\n",
        "  geom_bar(stat = \"identity\", position = position_dodge(width = 0.95)) +\n",
        "  geom_errorbar(aes(ymin = Lower_CL, ymax = Upper_CL), width = 0.2, position = position_dodge(width = 0.95)) +\n",
        "  labs(title = \"Female: 0 to 1+ conditions\", y = \"Progression rate per 100 person years\", x = NULL) +\n",
        "  scale_fill_manual(values = c(\"1\" = \"#6e0003ff\",\n",
        "                               \"2\" = \"#db000eff\",\n",
        "                               \"3\" = \"#DEA62A\",\n",
        "                               \"4\" = \"#00ab57ff\",\n",
        "                               \"5\" = \"#8bc680ff\"),\n",
        "                    labels = c(\"1 - most deprived\", \"2\", \"3\", \"4\", \"5 - least deprived\")) +\n",
        "  theme_minimal() +\n",
        "  theme(\n",
        "    text = element_text(family = \"Helvetica\"),\n",
        "    plot.title = element_text(size = 25),\n",
        "    axis.title = element_text(size = 20),\n",
        "    axis.text = element_text(size = 15),\n",
        "    legend.title = element_blank(),\n",
        "    legend.text = element_text(size = 25)\n",
        "  ) +\n",
        "  ylim(0, max_value)\n",
        "\n",
        "# Create the plot for Male\n",
        "plot_male <- ggplot(male_long_local, aes(x = ethnicity, y = Value, fill = IMD)) +\n",
        "  geom_bar(stat = \"identity\", position = position_dodge(width = 0.95)) +\n",
        "  geom_errorbar(aes(ymin = Lower_CL, ymax = Upper_CL), width = 0.2, position = position_dodge(width = 0.95)) +\n",
        "  labs(title = \"Male: 0 to 1+ conditions\", y = \"Progression rate per 100 person years\", x = NULL) +\n",
        "  scale_fill_manual(values = c(\"1\" = \"#6e0003ff\",\n",
        "                               \"2\" = \"#db000eff\",\n",
        "                               \"3\" = \"#DEA62A\",\n",
        "                               \"4\" = \"#00ab57ff\",\n",
        "                               \"5\" = \"#8bc680ff\"),\n",
        "                    labels = c(\"1 - most deprived\", \"2\", \"3\", \"4\", \"5 - least deprived\")) +\n",
        "  theme_minimal() +\n",
        "  theme(\n",
        "    text = element_text(family = \"Helvetica\"),\n",
        "    plot.title = element_text(size = 25),\n",
        "    axis.title = element_text(size = 20),\n",
        "    axis.text = element_text(size = 15),\n",
        "    legend.title = element_blank(),\n",
        "    legend.text = element_text(size = 25)\n",
        "  ) +\n",
        "  ylim(0, max_value)\n",
        "\n",
        "# Combine plots using patchwork and add a shared legend\n",
        "final_plot <- (plot_female | plot_male) + plot_layout(guides = \"collect\") & theme(legend.position = \"bottom\")\n",
        "\n",
        "# Display the combined plot\n",
        "print(final_plot)"
      ]
    }
  ],
  "metadata": {
    "kernelspec": {
      "display_name": "Synapse PySpark",
      "name": "synapse_pyspark"
    },
    "language_info": {
      "name": "r"
    },
    "save_output": true
  },
  "nbformat": 4,
  "nbformat_minor": 2
}

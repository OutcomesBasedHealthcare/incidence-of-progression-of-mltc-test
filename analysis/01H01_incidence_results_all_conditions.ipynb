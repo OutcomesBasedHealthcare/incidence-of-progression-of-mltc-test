{
  "nbformat": 4,
  "nbformat_minor": 2,
  "cells": [
    {
      "cell_type": "markdown",
      "metadata": {
        "nteract": {
          "transient": {
            "deleting": false
          }
        }
      },
      "source": [
        "### **01 - Incidence of MLTC**\r\n",
        "#### **01H01 - Manuscript outputs - all condition incidence by age**"
      ]
    },
    {
      "cell_type": "markdown",
      "metadata": {
        "nteract": {
          "transient": {
            "deleting": false
          }
        }
      },
      "source": [
        "**Imports**"
      ]
    },
    {
      "cell_type": "code",
      "execution_count": 1,
      "outputs": [],
      "metadata": {
        "jupyter": {
          "source_hidden": false,
          "outputs_hidden": false
        },
        "nteract": {
          "transient": {
            "deleting": false
          }
        }
      },
      "source": [
        "# required imports\r\n",
        "\r\n",
        "# requires blank line after last import\r\n",
        ""
      ]
    },
    {
      "cell_type": "code",
      "execution_count": 2,
      "outputs": [],
      "metadata": {
        "jupyter": {
          "source_hidden": false,
          "outputs_hidden": false
        },
        "nteract": {
          "transient": {
            "deleting": false
          }
        },
        "microsoft": {
          "language": "r"
        }
      },
      "source": [
        "%%sparkr\r\n",
        "\r\n",
        "if (!requireNamespace(\"PHEindicatormethods\", quietly = TRUE)) {\r\n",
        "  install.packages(\"PHEindicatormethods\")\r\n",
        "}\r\n",
        "library(PHEindicatormethods)"
      ]
    },
    {
      "cell_type": "markdown",
      "metadata": {
        "nteract": {
          "transient": {
            "deleting": false
          }
        }
      },
      "source": [
        "**Parameter cell**"
      ]
    },
    {
      "cell_type": "code",
      "execution_count": 3,
      "outputs": [],
      "metadata": {
        "jupyter": {
          "source_hidden": false,
          "outputs_hidden": false
        },
        "nteract": {
          "transient": {
            "deleting": false
          }
        },
        "tags": [
          "parameters"
        ]
      },
      "source": [
        "# parameter cell\r\n",
        "incidence_schema = \"\"  # \"mltc_incidence_outputs_v40_20230331\"\r\n",
        "analysis_year = \"\"  # \"2022/23\"\r\n",
        "segmentation_schema = \"\"  # \"obh_segmentation_v40_20230331\"\r\n",
        "pipeline_schema = \"\"  # \"pipeline_v40_20230331\"\r\n",
        "\r\n",
        "# optional, can be blank\r\n",
        ""
      ]
    },
    {
      "cell_type": "code",
      "execution_count": 4,
      "outputs": [],
      "metadata": {
        "jupyter": {
          "source_hidden": false,
          "outputs_hidden": false
        },
        "nteract": {
          "transient": {
            "deleting": false
          }
        }
      },
      "source": [
        "# Set parameters in Spark configuration with 'param.' prefix (for use in SQL cells)\r\n",
        "spark.conf.set(\"param.incidence_schema\", incidence_schema)\r\n",
        "spark.conf.set(\"param.analysis_year\", analysis_year)\r\n",
        "spark.conf.set(\"param.segmentation_schema\", segmentation_schema)\r\n",
        "spark.conf.set(\"param.pipeline_schema\", pipeline_schema)\r\n",
        ""
      ]
    },
    {
      "cell_type": "markdown",
      "metadata": {
        "nteract": {
          "transient": {
            "deleting": false
          }
        }
      },
      "source": [
        "---\r\n",
        "\r\n",
        "#### **01H - Manuscript outputs - all condition incidence by age**"
      ]
    },
    {
      "cell_type": "markdown",
      "metadata": {
        "nteract": {
          "transient": {
            "deleting": false
          }
        }
      },
      "source": [
        "This notebook extracts the overall incidence rate by condition, split by gender and age group\r\n",
        "\r\n",
        "**a - Create incidence base table**\r\n",
        "\r\n",
        "**Run time** ~13 mins\r\n",
        "\r\n",
        "This section uses the pipeline healthy well insertions table, which contains one row per person per subsegment entry. This is used instead of the pipeline subsegment combinations table (used for other analyses in this project) as here we are interested in new subsegment diagnoses, rather than the condition_count associated with a specific combination of subsegments.\r\n",
        "\r\n",
        "Subsegments are constrained down to those that appear in the previously defined configuration\r\n",
        "\r\n",
        "<blockquote style=\"color: #333333; background-color: #FFBF00; padding: 10px; border-left: 6px solid #C48800;\">\r\n",
        "  <strong>💡 TODO (EBT):</strong> Update table name and column names when refreshing to versions post-v4.0_20230331.\r\n",
        "</blockquote>"
      ]
    },
    {
      "cell_type": "code",
      "execution_count": 5,
      "outputs": [],
      "metadata": {
        "jupyter": {
          "source_hidden": false,
          "outputs_hidden": false
        },
        "nteract": {
          "transient": {
            "deleting": false
          }
        },
        "microsoft": {
          "language": "sparksql"
        },
        "collapsed": false
      },
      "source": [
        "%%sql\r\n",
        "\r\n",
        "CREATE    OR REPLACE TEMPORARY VIEW all_incidence_transitions AS\r\n",
        "SELECT    NHS_Number,\r\n",
        "          person_id,\r\n",
        "          subsegment,\r\n",
        "          MIN(psc.start_date) AS start_date\r\n",
        "FROM      ${param.pipeline_schema}.py_7_pipeline_pre_subsegment_combination psc\r\n",
        "INNER     JOIN ${param.segmentation_schema}.dim_person p ON p.pseudo_nhs_number = psc.NHS_Number\r\n",
        "INNER     JOIN ${param.incidence_schema}.config_subsegments cs on cs.subsegment_name = psc.subsegment -- restrict to subsegments in config\r\n",
        "GROUP BY  NHS_Number,\r\n",
        "          person_id,\r\n",
        "          subsegment\r\n",
        ""
      ]
    },
    {
      "cell_type": "markdown",
      "metadata": {
        "nteract": {
          "transient": {
            "deleting": false
          }
        }
      },
      "source": [
        "Link these transitions to the `fact_model` to remove unregistered rows, and apply age bandings\r\n",
        "\r\n",
        "<blockquote style=\"color: #D8000C; background-color: #FFD2D2; padding: 10px; border-left: 6px solid #D8000C;\">\r\n",
        "  <strong>⚠️ Warning:</strong> DROP TABLE is currently commented out, as this table does not need to be recreated each time the incidence analysis is run.\r\n",
        "</blockquote>"
      ]
    },
    {
      "cell_type": "code",
      "execution_count": 6,
      "outputs": [],
      "metadata": {
        "jupyter": {
          "source_hidden": false,
          "outputs_hidden": false
        },
        "nteract": {
          "transient": {
            "deleting": false
          }
        },
        "microsoft": {
          "language": "sparksql"
        },
        "collapsed": false
      },
      "source": [
        "%%sql\r\n",
        "\r\n",
        "--DROP TABLE IF EXISTS ${param.incidence_schema}.mm_all_incidence_transitions_age"
      ]
    },
    {
      "cell_type": "code",
      "execution_count": 7,
      "outputs": [],
      "metadata": {
        "jupyter": {
          "source_hidden": false,
          "outputs_hidden": false
        },
        "nteract": {
          "transient": {
            "deleting": false
          }
        },
        "microsoft": {
          "language": "sparksql"
        },
        "collapsed": false
      },
      "source": [
        "%%sql\r\n",
        "\r\n",
        "CREATE    TABLE ${param.incidence_schema}.mm_all_incidence_transitions_age USING PARQUET AS\r\n",
        "SELECT    f.date_id AS transition_month_date_id,\r\n",
        "          t.subsegment,\r\n",
        "          p.person_id,\r\n",
        "          p.pseudo_nhs_number,\r\n",
        "          f.age_id AS age,\r\n",
        "          CASE WHEN a.ten_year IN ('90-99','100-109','110-119') THEN '90+' ELSE a.ten_year END as age_band,\r\n",
        "          p.gender_description          \r\n",
        "FROM      all_incidence_transitions t\r\n",
        "INNER     JOIN ${param.segmentation_schema}.dim_person p ON p.person_id = t.person_id\r\n",
        "INNER     JOIN ${param.segmentation_schema}.dim_date d ON d.date = LAST_DAY(t.start_date)\r\n",
        "INNER     JOIN ${param.segmentation_schema}.fact_model f ON f.person_id = p.person_id\r\n",
        "AND       d.date_id = f.date_id\r\n",
        "INNER     JOIN ${param.segmentation_schema}.dim_age a ON a.age_id = f.age_id\r\n",
        "WHERE     f.gp_id IS NOT NULL\r\n",
        "AND       f.age_id >= 20\r\n",
        "AND       d.financial_year = '${param.analysis_year}'\r\n",
        ""
      ]
    },
    {
      "cell_type": "markdown",
      "metadata": {
        "nteract": {
          "transient": {
            "deleting": false
          }
        }
      },
      "source": [
        "**b - Create denominator person time base table**\r\n",
        "\r\n",
        "Denominators for all condition incidence are person years spent **without** the condition.\r\n",
        "\r\n",
        "These are calculated in two steps:\r\n",
        "- First whole population person years are calculated\r\n",
        "- Then condition-specific person years are calculated\r\n",
        "\r\n",
        "Condition-specific person years are then subtracted from whole population person years for each condition, to obtain person years **without** each condition."
      ]
    },
    {
      "cell_type": "markdown",
      "metadata": {
        "nteract": {
          "transient": {
            "deleting": false
          }
        }
      },
      "source": [
        "Calculate person years for whole population:\r\n",
        "\r\n",
        "\r\n",
        "**Run time** ~1 min\r\n",
        "\r\n",
        "<blockquote style=\"color: #D8000C; background-color: #FFD2D2; padding: 10px; border-left: 6px solid #D8000C;\">\r\n",
        "  <strong>⚠️ Warning:</strong> DROP TABLE is currently commented out, as this table does not need to be recreated each time the incidence analysis is run.\r\n",
        "</blockquote>"
      ]
    },
    {
      "cell_type": "code",
      "execution_count": null,
      "outputs": [],
      "metadata": {
        "jupyter": {
          "source_hidden": false,
          "outputs_hidden": false
        },
        "nteract": {
          "transient": {
            "deleting": false
          }
        },
        "microsoft": {
          "language": "sparksql"
        }
      },
      "source": [
        "%%sql\r\n",
        "\r\n",
        "--DROP TABLE IF EXISTS ${param.incidence_schema}.mm_person_years_whole_pop"
      ]
    },
    {
      "cell_type": "code",
      "execution_count": 12,
      "outputs": [],
      "metadata": {
        "jupyter": {
          "source_hidden": false,
          "outputs_hidden": false
        },
        "nteract": {
          "transient": {
            "deleting": false
          }
        },
        "microsoft": {
          "language": "sparksql"
        },
        "collapsed": false
      },
      "source": [
        "%%sql\r\n",
        "\r\n",
        "CREATE    TABLE ${param.incidence_schema}.mm_person_years_whole_pop USING PARQUET AS\r\n",
        "SELECT    age_band,\r\n",
        "          gender_description,\r\n",
        "          SUM(person_years) AS person_years\r\n",
        "FROM      ${param.incidence_schema}.mm_incidence_person_time\r\n",
        "WHERE     financial_year = '${param.analysis_year}'\r\n",
        "GROUP BY  age_band,\r\n",
        "          gender_description\r\n",
        "ORDER BY  age_band,\r\n",
        "          gender_description"
      ]
    },
    {
      "cell_type": "markdown",
      "metadata": {
        "nteract": {
          "transient": {
            "deleting": false
          }
        }
      },
      "source": [
        "Calculate person years with each condition:\r\n",
        "\r\n",
        "**Run time** ~4 mins"
      ]
    },
    {
      "cell_type": "markdown",
      "metadata": {
        "nteract": {
          "transient": {
            "deleting": false
          }
        }
      },
      "source": [
        "<blockquote style=\"color: #D8000C; background-color: #FFD2D2; padding: 10px; border-left: 6px solid #D8000C;\">\r\n",
        "  <strong>⚠️ Warning:</strong> DROP TABLE is currently commented out, as this table does not need to be recreated each time the incidence analysis is run.\r\n",
        "</blockquote>"
      ]
    },
    {
      "cell_type": "code",
      "execution_count": 13,
      "outputs": [],
      "metadata": {
        "jupyter": {
          "source_hidden": false,
          "outputs_hidden": false
        },
        "nteract": {
          "transient": {
            "deleting": false
          }
        },
        "microsoft": {
          "language": "sparksql"
        },
        "collapsed": false
      },
      "source": [
        "%%sql\r\n",
        "\r\n",
        "--DROP TABLE IF EXISTS ${param.incidence_schema}.mm_person_years_by_subsegment"
      ]
    },
    {
      "cell_type": "code",
      "execution_count": 14,
      "outputs": [],
      "metadata": {
        "jupyter": {
          "source_hidden": false,
          "outputs_hidden": false
        },
        "nteract": {
          "transient": {
            "deleting": false
          }
        },
        "microsoft": {
          "language": "sparksql"
        },
        "collapsed": false
      },
      "source": [
        "%%sql\r\n",
        "\r\n",
        "CREATE    TABLE ${param.incidence_schema}.mm_person_years_by_subsegment USING PARQUET AS\r\n",
        "SELECT    financial_year,\r\n",
        "          subsegment_name,\r\n",
        "          CASE WHEN a.ten_year IN ('90-99','100-109','110-119') THEN '90+' ELSE a.ten_year END as age_band,\r\n",
        "          p.gender_description,\r\n",
        "          SUM(d.month_financial_year_fraction) AS person_years\r\n",
        "FROM      ${param.segmentation_schema}.fact_model f\r\n",
        "INNER     JOIN ${param.segmentation_schema}.dim_person p ON p.person_id = f.person_id\r\n",
        "INNER     JOIN ${param.incidence_schema}.breakdown_subsegment_combinations_config bsc ON bsc.old_subsegment_combination_id = f.subsegment_combination_id\r\n",
        "INNER     JOIN ${param.segmentation_schema}.dim_date d ON d.date_id = f.date_id\r\n",
        "INNER     JOIN ${param.segmentation_schema}.dim_age a ON a.age_id = f.age_id\r\n",
        "WHERE     f.gp_id IS NOT NULL\r\n",
        "AND       d.financial_year = '${param.analysis_year}'\r\n",
        "AND       f.age_id >= 20\r\n",
        "GROUP BY  financial_year,\r\n",
        "          subsegment_name,      \r\n",
        "          CASE WHEN a.ten_year IN ('90-99','100-109','110-119') THEN '90+' ELSE a.ten_year END,\r\n",
        "          p.gender_description"
      ]
    },
    {
      "cell_type": "markdown",
      "metadata": {
        "nteract": {
          "transient": {
            "deleting": false
          }
        }
      },
      "source": [
        "Subtract condition-specific person years with each condition from whole population person years:"
      ]
    },
    {
      "cell_type": "code",
      "execution_count": 15,
      "outputs": [],
      "metadata": {
        "jupyter": {
          "source_hidden": false,
          "outputs_hidden": false
        },
        "nteract": {
          "transient": {
            "deleting": false
          }
        },
        "microsoft": {
          "language": "sparksql"
        },
        "collapsed": false
      },
      "source": [
        "%%sql\r\n",
        "\r\n",
        "CREATE    OR REPLACE TEMPORARY VIEW person_time_without_each_subsegment AS\r\n",
        "SELECT    s.subsegment_name,\r\n",
        "          s.age_band,\r\n",
        "          s.gender_description,\r\n",
        "          s.person_years AS person_years_with_subsegment,\r\n",
        "          p.person_years AS person_years_whole_population,\r\n",
        "          p.person_years - s.person_years AS person_years_without_subsegment\r\n",
        "FROM      ${param.incidence_schema}.mm_person_years_by_subsegment s\r\n",
        "INNER     JOIN ${param.incidence_schema}.mm_person_years_whole_pop p ON p.age_band = s.age_band\r\n",
        "AND       s.gender_description = p.gender_description"
      ]
    },
    {
      "cell_type": "markdown",
      "metadata": {
        "nteract": {
          "transient": {
            "deleting": false
          }
        }
      },
      "source": [
        "**c - Combine results to obtain age and gender-specific incidence rates for each condition**\r\n",
        "\r\n",
        "<blockquote style=\"color: #D8000C; background-color: #FFD2D2; padding: 10px; border-left: 6px solid #D8000C;\">\r\n",
        "  <strong>⚠️ Warning:</strong> DROP TABLE is currently commented out, as this table does not need to be recreated each time the incidence analysis is run.\r\n",
        "</blockquote>"
      ]
    },
    {
      "cell_type": "code",
      "execution_count": 16,
      "outputs": [],
      "metadata": {
        "jupyter": {
          "source_hidden": false,
          "outputs_hidden": false
        },
        "nteract": {
          "transient": {
            "deleting": false
          }
        },
        "microsoft": {
          "language": "sparksql"
        },
        "collapsed": false
      },
      "source": [
        "%%sql\r\n",
        "\r\n",
        "--DROP TABLE IF EXISTS ${param.incidence_schema}.mm_all_incidence_by_subsegment_and_age"
      ]
    },
    {
      "cell_type": "code",
      "execution_count": 17,
      "outputs": [],
      "metadata": {
        "jupyter": {
          "source_hidden": false,
          "outputs_hidden": false
        },
        "nteract": {
          "transient": {
            "deleting": false
          }
        },
        "microsoft": {
          "language": "sparksql"
        },
        "collapsed": false
      },
      "source": [
        "%%sql\r\n",
        "\r\n",
        "CREATE    TABLE ${param.incidence_schema}.mm_all_incidence_by_subsegment_and_age USING PARQUET AS\r\n",
        "SELECT    py.age_band,\r\n",
        "          py.gender_description,\r\n",
        "          py.subsegment_name as subsegment,\r\n",
        "          incidence,\r\n",
        "          person_years_without_subsegment,\r\n",
        "          (incidence * 1.0) / (person_years_without_subsegment * 1.0) * 100000 AS incidence_rate\r\n",
        "FROM      person_time_without_each_subsegment py\r\n",
        "LEFT      OUTER JOIN (\r\n",
        "          SELECT    gender_description,\r\n",
        "                    age_band,\r\n",
        "                    subsegment,\r\n",
        "                    COUNT(*) AS incidence \r\n",
        "          FROM      ${param.incidence_schema}.mm_all_incidence_transitions_age\r\n",
        "          WHERE     gender_description NOT IN ('NOT KNOWN', 'NOT SPECIFIED')\r\n",
        "          GROUP BY  gender_description,\r\n",
        "                    age_band,\r\n",
        "                    subsegment\r\n",
        "          ) num ON py.age_band = num.age_band\r\n",
        "AND       py.gender_description = num.gender_description\r\n",
        "AND       py.subsegment_name = num.subsegment\r\n",
        "WHERE     py.gender_description NOT IN ('NOT KNOWN', 'NOT SPECIFIED')"
      ]
    },
    {
      "cell_type": "markdown",
      "metadata": {
        "nteract": {
          "transient": {
            "deleting": false
          }
        }
      },
      "source": [
        "**d - Calculate confidence intervals using Byar's method**\r\n",
        "\r\n",
        "This section uses `PHEindicatormethods` package `phe_rate` function."
      ]
    },
    {
      "cell_type": "markdown",
      "metadata": {
        "nteract": {
          "transient": {
            "deleting": false
          }
        }
      },
      "source": [
        "Convert to RSpark DataFrame then R DataFrame"
      ]
    },
    {
      "cell_type": "code",
      "execution_count": 5,
      "outputs": [],
      "metadata": {
        "jupyter": {
          "source_hidden": false,
          "outputs_hidden": false
        },
        "nteract": {
          "transient": {
            "deleting": false
          }
        },
        "microsoft": {
          "language": "r"
        }
      },
      "source": [
        "%%sparkr\r\n",
        "\r\n",
        "df_combined_r <- sql(\"SELECT * FROM ${param.incidence_schema}.mm_all_incidence_by_subsegment_and_age\")"
      ]
    },
    {
      "cell_type": "code",
      "execution_count": 6,
      "outputs": [],
      "metadata": {
        "jupyter": {
          "source_hidden": false,
          "outputs_hidden": false
        },
        "nteract": {
          "transient": {
            "deleting": false
          }
        },
        "microsoft": {
          "language": "r"
        }
      },
      "source": [
        "%%sparkr\r\n",
        "\r\n",
        "r_combined <- collect(df_combined_r)"
      ]
    },
    {
      "cell_type": "markdown",
      "metadata": {
        "nteract": {
          "transient": {
            "deleting": false
          }
        }
      },
      "source": [
        "Calculate crude rate and confidence intervals"
      ]
    },
    {
      "cell_type": "code",
      "execution_count": 7,
      "outputs": [],
      "metadata": {
        "jupyter": {
          "source_hidden": false,
          "outputs_hidden": false
        },
        "nteract": {
          "transient": {
            "deleting": false
          }
        },
        "microsoft": {
          "language": "r"
        }
      },
      "source": [
        "%%sparkr\r\n",
        "\r\n",
        "# Calculate rates with confidence intervals\r\n",
        "r_crude_rate_output <- phe_rate(\r\n",
        "  data = r_combined,\r\n",
        "  x = incidence,\r\n",
        "  n = person_years_without_subsegment,\r\n",
        "  multiplier = 100000,\r\n",
        "  confidence = 0.95\r\n",
        ")\r\n",
        "\r\n",
        "# Convert the R DataFrame to a SparkR DataFrame\r\n",
        "df_r_crude_rate_output <- createDataFrame(r_crude_rate_output)\r\n",
        "\r\n",
        "# Save as a temporary view\r\n",
        "createOrReplaceTempView(df_r_crude_rate_output, \"r_crude_rate_output_view\")\r\n",
        ""
      ]
    },
    {
      "cell_type": "markdown",
      "metadata": {
        "nteract": {
          "transient": {
            "deleting": false
          }
        }
      },
      "source": [
        "**Extract output with small number suppression**\r\n",
        "\r\n",
        "<blockquote style=\"color: #D8000C; background-color: #FFD2D2; padding: 10px; border-left: 6px solid #D8000C;\">\r\n",
        "  <strong>⚠️ Warning:</strong> DROP TABLE is currently commented out, as this table does not need to be recreated each time the incidence analysis is run.\r\n",
        "</blockquote>"
      ]
    },
    {
      "cell_type": "code",
      "execution_count": null,
      "outputs": [],
      "metadata": {
        "jupyter": {
          "source_hidden": false,
          "outputs_hidden": false
        },
        "nteract": {
          "transient": {
            "deleting": false
          }
        },
        "microsoft": {
          "language": "sparksql"
        }
      },
      "source": [
        "%%sql\r\n",
        "\r\n",
        "--DROP TABLE IF EXISTS ${param.incidence_schema}.output_01H01_all_incidence_by_subsegment_and_age"
      ]
    },
    {
      "cell_type": "code",
      "execution_count": 8,
      "outputs": [],
      "metadata": {
        "jupyter": {
          "source_hidden": false,
          "outputs_hidden": false
        },
        "nteract": {
          "transient": {
            "deleting": false
          }
        },
        "microsoft": {
          "language": "sparksql"
        },
        "collapsed": false
      },
      "source": [
        "%%sql\r\n",
        "\r\n",
        "CREATE    TABLE ${param.incidence_schema}.output_01H01_all_incidence_by_subsegment_and_age USING PARQUET AS\r\n",
        "SELECT    age_band,\r\n",
        "          gender_description,\r\n",
        "          subsegment,\r\n",
        "          CASE\r\n",
        "                    WHEN incidence BETWEEN 1 AND 7  THEN '***'\r\n",
        "                    ELSE incidence\r\n",
        "          END AS incidence,\r\n",
        "          CASE\r\n",
        "                    WHEN person_years_without_subsegment BETWEEN 1 AND 7  THEN '***'\r\n",
        "                    ELSE person_years_without_subsegment\r\n",
        "          END AS person_years_without_subsegment,\r\n",
        "          CASE\r\n",
        "                    WHEN incidence BETWEEN 1 AND 7  THEN '***'\r\n",
        "                    ELSE value\r\n",
        "          END AS incidence_rate,\r\n",
        "          lowercl AS lower_cl,\r\n",
        "          uppercl AS upper_cl\r\n",
        "FROM      r_crude_rate_output_view\r\n",
        "ORDER BY  subsegment,\r\n",
        "          gender_description,\r\n",
        "          age_band"
      ]
    },
    {
      "cell_type": "code",
      "execution_count": 9,
      "outputs": [],
      "metadata": {
        "jupyter": {
          "source_hidden": false,
          "outputs_hidden": false
        },
        "nteract": {
          "transient": {
            "deleting": false
          }
        },
        "microsoft": {
          "language": "sparksql"
        },
        "collapsed": false
      },
      "source": [
        "%%sql\r\n",
        "\r\n",
        "SELECT    *\r\n",
        "FROM      ${param.incidence_schema}.output_01H01_all_incidence_by_subsegment_and_age"
      ]
    }
  ],
  "metadata": {
    "save_output": true,
    "kernelspec": {
      "name": "synapse_pyspark",
      "display_name": "Synapse PySpark"
    },
    "language_info": {
      "name": "python"
    }
  }
}
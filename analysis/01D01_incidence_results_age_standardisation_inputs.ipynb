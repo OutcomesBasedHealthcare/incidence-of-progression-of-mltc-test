{
  "nbformat": 4,
  "nbformat_minor": 2,
  "cells": [
    {
      "cell_type": "markdown",
      "metadata": {
        "nteract": {
          "transient": {
            "deleting": false
          }
        }
      },
      "source": [
        "### **01 - Incidence of MLTC**\r\n",
        "#### **01D01 - Manuscript outputs - age standardisation inputs**"
      ]
    },
    {
      "cell_type": "markdown",
      "metadata": {
        "nteract": {
          "transient": {
            "deleting": false
          }
        }
      },
      "source": [
        "**Imports**"
      ]
    },
    {
      "cell_type": "code",
      "execution_count": 1,
      "outputs": [],
      "metadata": {
        "jupyter": {
          "source_hidden": false,
          "outputs_hidden": false
        },
        "nteract": {
          "transient": {
            "deleting": false
          }
        }
      },
      "source": [
        "# required imports\r\n",
        "\r\n",
        "# requires blank line after last import\r\n",
        ""
      ]
    },
    {
      "cell_type": "markdown",
      "metadata": {
        "nteract": {
          "transient": {
            "deleting": false
          }
        }
      },
      "source": [
        "**Parameter cell**"
      ]
    },
    {
      "cell_type": "code",
      "execution_count": 2,
      "outputs": [],
      "metadata": {
        "jupyter": {
          "source_hidden": false,
          "outputs_hidden": false
        },
        "nteract": {
          "transient": {
            "deleting": false
          }
        },
        "tags": [
          "parameters"
        ]
      },
      "source": [
        "# parameter cell\r\n",
        "incidence_schema = \"\"  # \"mltc_incidence_outputs_v40_20230331\"\r\n",
        "analysis_year = \"\"  # \"2022/23\"\r\n",
        "\r\n",
        "# optional, can be blank\r\n",
        ""
      ]
    },
    {
      "cell_type": "code",
      "execution_count": 3,
      "outputs": [],
      "metadata": {
        "jupyter": {
          "source_hidden": false,
          "outputs_hidden": false
        },
        "nteract": {
          "transient": {
            "deleting": false
          }
        }
      },
      "source": [
        "# Set parameters in Spark configuration with 'param.' prefix (for use in SQL cells)\r\n",
        "spark.conf.set(\"param.incidence_schema\", incidence_schema)\r\n",
        "spark.conf.set(\"param.analysis_year\", analysis_year)\r\n",
        ""
      ]
    },
    {
      "cell_type": "markdown",
      "metadata": {
        "nteract": {
          "transient": {
            "deleting": false
          }
        }
      },
      "source": [
        "---\r\n",
        "\r\n",
        "#### **01D01 - Manuscript outputs - age standardisation inputs**\r\n",
        "\r\n",
        "This section creates an input table for age standardisation of gender, IMD and ethnicity outputs."
      ]
    },
    {
      "cell_type": "markdown",
      "metadata": {
        "nteract": {
          "transient": {
            "deleting": false
          }
        }
      },
      "source": [
        "**a - Aggregate numerator and denominator**\r\n",
        "\r\n",
        "This first query creates a temporary view aggregating the denominator and numerator by:\r\n",
        "- Gender\r\n",
        "- Age band (10 year bandings)\r\n",
        "- IMD quintile\r\n",
        "- Ethnicity (Census 2011)\r\n",
        "- IMD quintile\r\n",
        "\r\n",
        "This is restricted to base condition counts from 0 to 2 (as these are the only breakdowns required for the main results table)"
      ]
    },
    {
      "cell_type": "code",
      "execution_count": 4,
      "outputs": [],
      "metadata": {
        "jupyter": {
          "source_hidden": false,
          "outputs_hidden": false
        },
        "nteract": {
          "transient": {
            "deleting": false
          }
        },
        "microsoft": {
          "language": "sparksql"
        },
        "collapsed": false
      },
      "source": [
        "%%sql\r\n",
        "\r\n",
        "CREATE    OR REPLACE TEMPORARY VIEW age_standardisation_incidence_base AS\r\n",
        "\r\n",
        "SELECT    py.*,\r\n",
        "          i.progression_incidence\r\n",
        "FROM      (\r\n",
        "          SELECT    gender_description,\r\n",
        "                    age_band,\r\n",
        "                    COALESCE(imd_quintile,'Unknown') as imd_quintile,\r\n",
        "                    COALESCE(census_2011_ethnic_group,'Unknown') as census_2011_ethnic_group,\r\n",
        "                    condition_count,\r\n",
        "                    SUM(person_years) AS person_years\r\n",
        "          FROM      ${param.incidence_schema}.mm_incidence_person_time m\r\n",
        "          WHERE     financial_year = '${param.analysis_year}'\r\n",
        "          AND       condition_count <= 2\r\n",
        "          GROUP BY  gender_description,\r\n",
        "                    age_band,\r\n",
        "                    COALESCE(imd_quintile,'Unknown'),\r\n",
        "                    COALESCE(census_2011_ethnic_group,'Unknown'),\r\n",
        "                    condition_count\r\n",
        "          ) py\r\n",
        "LEFT      OUTER JOIN (\r\n",
        "          SELECT    gender_description,\r\n",
        "                    age_band,\r\n",
        "                    COALESCE(imd_quintile,'Unknown') as imd_quintile,\r\n",
        "                    COALESCE(census_2011_ethnic_group,'Unknown') as census_2011_ethnic_group,\r\n",
        "                    previous_condition_count,\r\n",
        "                    COUNT(*) AS progression_incidence\r\n",
        "          FROM      ${param.incidence_schema}.mm_incidence_transitions_age m\r\n",
        "          WHERE     financial_year = '${param.analysis_year}'\r\n",
        "          AND       previous_condition_count <= 2\r\n",
        "          GROUP BY  gender_description,\r\n",
        "                    age_band,\r\n",
        "                    COALESCE(imd_quintile,'Unknown'),\r\n",
        "                    COALESCE(census_2011_ethnic_group,'Unknown'),\r\n",
        "                    previous_condition_count\r\n",
        "          ) i ON i.gender_description = py.gender_description\r\n",
        "AND       i.age_band = py.age_band\r\n",
        "AND       i.imd_quintile = py.imd_quintile\r\n",
        "AND       i.census_2011_ethnic_group = py.census_2011_ethnic_group\r\n",
        "AND       i.previous_condition_count = py.condition_count\r\n",
        ""
      ]
    },
    {
      "cell_type": "markdown",
      "metadata": {
        "nteract": {
          "transient": {
            "deleting": false
          }
        }
      },
      "source": [
        "**b - Create standard population**"
      ]
    },
    {
      "cell_type": "markdown",
      "metadata": {
        "nteract": {
          "transient": {
            "deleting": false
          }
        }
      },
      "source": [
        "This section creates the standard population by 10 year age bandings, to be used for age standardisation.\r\n",
        "\r\n",
        "In this case, the selected standard population is people with 0 conditions (in person years, for consistency with the rest of the analysis)."
      ]
    },
    {
      "cell_type": "code",
      "execution_count": 5,
      "outputs": [],
      "metadata": {
        "jupyter": {
          "source_hidden": false,
          "outputs_hidden": false
        },
        "nteract": {
          "transient": {
            "deleting": false
          }
        },
        "microsoft": {
          "language": "sparksql"
        },
        "collapsed": false
      },
      "source": [
        "%%sql\r\n",
        "\r\n",
        "CREATE    OR REPLACE TEMPORARY VIEW age_standardisation_standard_population AS\r\n",
        "SELECT    age_band,\r\n",
        "          SUM(person_years) AS standard_pop_person_years\r\n",
        "FROM      ${param.incidence_schema}.mm_incidence_person_time m\r\n",
        "WHERE     financial_year = '${param.analysis_year}'\r\n",
        "AND       condition_count = 0\r\n",
        "GROUP BY  age_band\r\n",
        "ORDER BY  age_band"
      ]
    },
    {
      "cell_type": "markdown",
      "metadata": {
        "nteract": {
          "transient": {
            "deleting": false
          }
        }
      },
      "source": [
        "**c - Calculate incidence rates**\r\n",
        "\r\n",
        "This section calculates age band-specific incidence rates by base condition count (from 0 to 2) for:\r\n",
        "- Whole population\r\n",
        "- Gender breakdown\r\n",
        "- Gender and age\r\n",
        "- Gender and ethnicity\r\n",
        "- Gender and IMD\r\n",
        "- IMD/ethnicity combined\r\n",
        "- Gender, IMD and ethnicity combined"
      ]
    },
    {
      "cell_type": "code",
      "execution_count": 6,
      "outputs": [],
      "metadata": {
        "jupyter": {
          "source_hidden": false,
          "outputs_hidden": false
        },
        "nteract": {
          "transient": {
            "deleting": false
          }
        },
        "microsoft": {
          "language": "sparksql"
        },
        "collapsed": false
      },
      "source": [
        "%%sql\r\n",
        "\r\n",
        "CREATE    OR REPLACE TEMPORARY VIEW age_standardisation_incidence_aggregate AS\r\n",
        "-- whole population\r\n",
        "SELECT    'NA' AS gender_description,\r\n",
        "          'NA' AS breakdown_type,\r\n",
        "          'NA' AS socio_demographic_breakdown,\r\n",
        "          b.age_band,\r\n",
        "          b.condition_count,\r\n",
        "          SUM(b.progression_incidence) AS progression_incidence,\r\n",
        "          SUM(b.person_years) AS person_years,\r\n",
        "          SUM(b.progression_incidence) / SUM(b.person_years) AS incidence_rate\r\n",
        "FROM      age_standardisation_incidence_base b\r\n",
        "GROUP BY  b.age_band,\r\n",
        "          b.condition_count\r\n",
        "UNION ALL\r\n",
        "-- gender breakdown\r\n",
        "SELECT    b.gender_description,\r\n",
        "          'NA' AS breakdown_type,\r\n",
        "          'NA' AS socio_demographic_breakdown,\r\n",
        "          b.age_band,\r\n",
        "          b.condition_count,\r\n",
        "          SUM(b.progression_incidence) AS progression_incidence,\r\n",
        "          SUM(b.person_years) AS person_years,\r\n",
        "          SUM(b.progression_incidence) / SUM(b.person_years) AS incidence_rate\r\n",
        "FROM      age_standardisation_incidence_base b\r\n",
        "WHERE     gender_description NOT IN ('NOT KNOWN', 'NOT SPECIFIED')\r\n",
        "GROUP BY  b.gender_description,\r\n",
        "          b.age_band,\r\n",
        "          b.condition_count\r\n",
        "UNION ALL\r\n",
        "-- gender and age breakdown\r\n",
        "SELECT    b.gender_description,\r\n",
        "          'Age' AS breakdown_type,\r\n",
        "          age_band AS socio_demographic_breakdown, -- age_band used for breakdown\r\n",
        "          b.age_band, -- age_band used for standardisation (same as above in this case)\r\n",
        "          b.condition_count,\r\n",
        "          SUM(b.progression_incidence) AS progression_incidence,\r\n",
        "          SUM(b.person_years) AS person_years,\r\n",
        "          SUM(b.progression_incidence) / SUM(b.person_years) AS incidence_rate\r\n",
        "FROM      age_standardisation_incidence_base b\r\n",
        "WHERE     gender_description NOT IN ('NOT KNOWN', 'NOT SPECIFIED')\r\n",
        "GROUP BY  b.gender_description,\r\n",
        "          b.age_band,\r\n",
        "          b.condition_count\r\n",
        "UNION ALL\r\n",
        "-- gender and ethnicity breakdown\r\n",
        "SELECT    b.gender_description,\r\n",
        "          'Ethnicity' AS breakdown_type,\r\n",
        "          census_2011_ethnic_group AS socio_demographic_breakdown,\r\n",
        "          b.age_band,\r\n",
        "          b.condition_count,\r\n",
        "          SUM(b.progression_incidence) AS progression_incidence,\r\n",
        "          SUM(b.person_years) AS person_years,\r\n",
        "          SUM(b.progression_incidence) / SUM(b.person_years) AS incidence_rate\r\n",
        "FROM      age_standardisation_incidence_base b\r\n",
        "WHERE     gender_description NOT IN ('NOT KNOWN', 'NOT SPECIFIED')\r\n",
        "GROUP BY  b.gender_description,\r\n",
        "          b.census_2011_ethnic_group,\r\n",
        "          b.age_band,\r\n",
        "          b.condition_count\r\n",
        "UNION ALL\r\n",
        "-- gender and IMD breakdown\r\n",
        "SELECT    b.gender_description,\r\n",
        "          'IMD' AS breakdown_type,\r\n",
        "          imd_quintile AS socio_demographic_breakdown,\r\n",
        "          b.age_band,\r\n",
        "          b.condition_count,\r\n",
        "          SUM(b.progression_incidence) AS progression_incidence,\r\n",
        "          SUM(b.person_years) AS person_years,\r\n",
        "          SUM(b.progression_incidence) / SUM(b.person_years) AS incidence_rate\r\n",
        "FROM      age_standardisation_incidence_base b\r\n",
        "WHERE     gender_description NOT IN ('NOT KNOWN', 'NOT SPECIFIED')\r\n",
        "GROUP BY  b.gender_description,\r\n",
        "          b.imd_quintile,\r\n",
        "          b.age_band,\r\n",
        "          b.condition_count\r\n",
        "UNION ALL\r\n",
        "-- IMD/ethnicity breakdown\r\n",
        "SELECT    'NA' AS gender_description,\r\n",
        "          'IMD and Ethnicity' AS breakdown_type,\r\n",
        "          CONCAT(b.imd_quintile, ' / ', b.census_2011_ethnic_group) AS socio_demographic_breakdown,\r\n",
        "          b.age_band,\r\n",
        "          b.condition_count,\r\n",
        "          SUM(b.progression_incidence) AS progression_incidence,\r\n",
        "          SUM(b.person_years) AS person_years,\r\n",
        "          SUM(b.progression_incidence) / SUM(b.person_years) AS incidence_rate\r\n",
        "FROM      age_standardisation_incidence_base b\r\n",
        "WHERE     gender_description NOT IN ('NOT KNOWN', 'NOT SPECIFIED')\r\n",
        "GROUP BY  CONCAT(b.imd_quintile, ' / ', b.census_2011_ethnic_group),\r\n",
        "          b.age_band,\r\n",
        "          b.condition_count\r\n",
        "UNION ALL\r\n",
        "-- Gender, IMD/ethnicity breakdown\r\n",
        "SELECT    b.gender_description AS gender_description,\r\n",
        "          'Gender, IMD and Ethnicity' AS breakdown_type,\r\n",
        "          CONCAT(b.imd_quintile, ' / ', b.census_2011_ethnic_group) AS socio_demographic_breakdown,\r\n",
        "          b.age_band,\r\n",
        "          b.condition_count,\r\n",
        "          SUM(b.progression_incidence) AS progression_incidence,\r\n",
        "          SUM(b.person_years) AS person_years,\r\n",
        "          SUM(b.progression_incidence) / SUM(b.person_years) AS incidence_rate\r\n",
        "FROM      age_standardisation_incidence_base b\r\n",
        "WHERE     gender_description NOT IN ('NOT KNOWN', 'NOT SPECIFIED')\r\n",
        "GROUP BY  b.gender_description,\r\n",
        "          CONCAT(b.imd_quintile, ' / ', b.census_2011_ethnic_group),\r\n",
        "          b.age_band,\r\n",
        "          b.condition_count"
      ]
    },
    {
      "cell_type": "markdown",
      "metadata": {
        "nteract": {
          "transient": {
            "deleting": false
          }
        }
      },
      "source": [
        "**d - Create output table with standard population applied**\r\n",
        "\r\n",
        "This section applies the age-specific standard population to each sociodemographic breakdown of data.\r\n",
        "\r\n",
        "This will be fed into an RSpark notebook to calculate standardised rates and confidence intervals.\r\n",
        "\r\n",
        "<blockquote style=\"color: #D8000C; background-color: #FFD2D2; padding: 10px; border-left: 6px solid #D8000C;\">\r\n",
        "  <strong>⚠️ Warning:</strong> DROP TABLE is currently commented out, as this table does not need to be recreated each time the incidence analysis is run.\r\n",
        "</blockquote>"
      ]
    },
    {
      "cell_type": "code",
      "execution_count": 7,
      "outputs": [],
      "metadata": {
        "jupyter": {
          "source_hidden": false,
          "outputs_hidden": false
        },
        "nteract": {
          "transient": {
            "deleting": false
          }
        },
        "microsoft": {
          "language": "sparksql"
        },
        "collapsed": false
      },
      "source": [
        "%%sql\r\n",
        "\r\n",
        "-- DROP TABLE IF EXISTS ${param.incidence_schema}.mm_incidence_age_standardisation_input"
      ]
    },
    {
      "cell_type": "code",
      "execution_count": 8,
      "outputs": [],
      "metadata": {
        "jupyter": {
          "source_hidden": false,
          "outputs_hidden": false
        },
        "nteract": {
          "transient": {
            "deleting": false
          }
        },
        "microsoft": {
          "language": "sparksql"
        },
        "collapsed": false
      },
      "source": [
        "%%sql \r\n",
        "\r\n",
        "CREATE TABLE ${param.incidence_schema}.mm_incidence_age_standardisation_input USING PARQUET AS\r\n",
        "\r\n",
        "SELECT    a.gender_description,\r\n",
        "          a.breakdown_type,\r\n",
        "          a.socio_demographic_breakdown,\r\n",
        "          a.age_band,\r\n",
        "          a.condition_count as initial_condition_count,\r\n",
        "          a.progression_incidence,\r\n",
        "          a.person_years,\r\n",
        "          a.incidence_rate,\r\n",
        "          s.standard_pop_person_years\r\n",
        "FROM      age_standardisation_incidence_aggregate a\r\n",
        "INNER     JOIN age_standardisation_standard_population s ON s.age_band = a.age_band\r\n",
        "ORDER BY  CASE\r\n",
        "                    WHEN gender_description = 'NA' THEN 0\r\n",
        "                    ELSE gender_description\r\n",
        "          END,\r\n",
        "          CASE\r\n",
        "                    WHEN breakdown_type = 'NA' THEN 0\r\n",
        "                    ELSE breakdown_type\r\n",
        "          END,\r\n",
        "          CASE\r\n",
        "                    WHEN socio_demographic_breakdown = 'NA' THEN 0\r\n",
        "                    ELSE socio_demographic_breakdown\r\n",
        "          END,\r\n",
        "          age_band,\r\n",
        "          initial_condition_count"
      ]
    }
  ],
  "metadata": {
    "save_output": true,
    "kernelspec": {
      "name": "synapse_pyspark",
      "display_name": "Synapse PySpark"
    },
    "language_info": {
      "name": "python"
    }
  }
}
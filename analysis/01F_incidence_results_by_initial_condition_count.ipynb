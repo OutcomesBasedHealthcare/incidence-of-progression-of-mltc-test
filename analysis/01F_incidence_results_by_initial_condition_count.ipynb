{
  "nbformat": 4,
  "nbformat_minor": 2,
  "cells": [
    {
      "cell_type": "markdown",
      "metadata": {
        "nteract": {
          "transient": {
            "deleting": false
          }
        }
      },
      "source": [
        "### **01 - Incidence of MLTC**\r\n",
        "#### **01F - Manuscript outputs - progression rate by initial condition count**"
      ]
    },
    {
      "cell_type": "markdown",
      "metadata": {
        "nteract": {
          "transient": {
            "deleting": false
          }
        }
      },
      "source": [
        "**Imports**"
      ]
    },
    {
      "cell_type": "code",
      "execution_count": 1,
      "outputs": [],
      "metadata": {
        "jupyter": {
          "source_hidden": false,
          "outputs_hidden": false
        },
        "nteract": {
          "transient": {
            "deleting": false
          }
        }
      },
      "source": [
        "# required importss\r\n",
        "\r\n",
        "# requires blank line after last import\r\n",
        ""
      ]
    },
    {
      "cell_type": "code",
      "execution_count": 2,
      "outputs": [],
      "metadata": {
        "jupyter": {
          "source_hidden": false,
          "outputs_hidden": false
        },
        "nteract": {
          "transient": {
            "deleting": false
          }
        },
        "microsoft": {
          "language": "r"
        }
      },
      "source": [
        "%%sparkr\r\n",
        "\r\n",
        "if (!requireNamespace(\"PHEindicatormethods\", quietly = TRUE)) {\r\n",
        "  install.packages(\"PHEindicatormethods\")\r\n",
        "}\r\n",
        "library(PHEindicatormethods)"
      ]
    },
    {
      "cell_type": "markdown",
      "metadata": {
        "nteract": {
          "transient": {
            "deleting": false
          }
        }
      },
      "source": [
        "**Parameter cell**"
      ]
    },
    {
      "cell_type": "code",
      "execution_count": 8,
      "outputs": [],
      "metadata": {
        "jupyter": {
          "source_hidden": false,
          "outputs_hidden": false
        },
        "nteract": {
          "transient": {
            "deleting": false
          }
        },
        "tags": [
          "parameters"
        ]
      },
      "source": [
        "# parameter cell\r\n",
        "incidence_schema = \"\"  # \"mltc_incidence_outputs_v40_20230331\"\r\n",
        "segmentation_schema = \"\"  # \"obh_segmentation_v40_20230331\"\r\n",
        "analysis_year = \"\"  # \"2022/23\"\r\n",
        "\r\n",
        "# optional, can be blank\r\n",
        ""
      ]
    },
    {
      "cell_type": "code",
      "execution_count": 9,
      "outputs": [],
      "metadata": {
        "jupyter": {
          "source_hidden": false,
          "outputs_hidden": false
        },
        "nteract": {
          "transient": {
            "deleting": false
          }
        }
      },
      "source": [
        "# Set parameters in Spark configuration with 'param.' prefix (for use in SQL cells)\r\n",
        "spark.conf.set(\"param.incidence_schema\", incidence_schema)\r\n",
        "spark.conf.set(\"param.segmentation_schema\", segmentation_schema)\r\n",
        "spark.conf.set(\"param.analysis_year\", analysis_year)\r\n",
        ""
      ]
    },
    {
      "cell_type": "markdown",
      "metadata": {
        "nteract": {
          "transient": {
            "deleting": false
          }
        }
      },
      "source": [
        "---\r\n",
        "\r\n",
        "#### **01F - Manuscript outputs - progression rate by initial condition count**\r\n",
        ""
      ]
    },
    {
      "cell_type": "markdown",
      "metadata": {
        "nteract": {
          "transient": {
            "deleting": false
          }
        }
      },
      "source": [
        "This notebook extracts the rate of progression split by initial condition count\r\n",
        "\r\n",
        "**a - Create denominator person time temporary view**"
      ]
    },
    {
      "cell_type": "code",
      "execution_count": 5,
      "outputs": [],
      "metadata": {
        "jupyter": {
          "source_hidden": false,
          "outputs_hidden": false
        },
        "nteract": {
          "transient": {
            "deleting": false
          }
        },
        "microsoft": {
          "language": "sparksql"
        },
        "collapsed": false
      },
      "source": [
        "%%sql\r\n",
        "\r\n",
        "CREATE    OR REPLACE TEMPORARY VIEW headline_condition_count_transitions_denominator AS\r\n",
        "SELECT    condition_count,\r\n",
        "          SUM(person_years) AS person_years\r\n",
        "FROM      ${param.incidence_schema}.mm_incidence_person_time m\r\n",
        "WHERE     financial_year = '${param.analysis_year}'\r\n",
        "GROUP BY  condition_count"
      ]
    },
    {
      "cell_type": "markdown",
      "metadata": {
        "nteract": {
          "transient": {
            "deleting": false
          }
        }
      },
      "source": [
        "**b - Create numerator temporary view, including percentile ages that transition occur**"
      ]
    },
    {
      "cell_type": "code",
      "execution_count": 6,
      "outputs": [],
      "metadata": {
        "jupyter": {
          "source_hidden": false,
          "outputs_hidden": false
        },
        "nteract": {
          "transient": {
            "deleting": false
          }
        },
        "microsoft": {
          "language": "sparksql"
        },
        "collapsed": false
      },
      "source": [
        "%%sql\r\n",
        "\r\n",
        "CREATE    OR REPLACE TEMPORARY VIEW headline_condition_count_transitions_numerator AS\r\n",
        "SELECT    previous_condition_count,\r\n",
        "          perc_05,\r\n",
        "          perc_25,\r\n",
        "          perc_50,\r\n",
        "          perc_75,\r\n",
        "          perc_95,\r\n",
        "          COUNT(*) AS incidence\r\n",
        "FROM      (\r\n",
        "          SELECT    previous_condition_count,\r\n",
        "                    PERCENTILE_CONT (0.05) within GROUP (\r\n",
        "                    ORDER BY  age * 1.0\r\n",
        "                    ) OVER (\r\n",
        "                    PARTITION BY previous_condition_count\r\n",
        "                    ) AS perc_05,\r\n",
        "                    PERCENTILE_CONT (0.25) within GROUP (\r\n",
        "                    ORDER BY  age * 1.0\r\n",
        "                    ) OVER (\r\n",
        "                    PARTITION BY previous_condition_count\r\n",
        "                    ) AS perc_25,\r\n",
        "                    PERCENTILE_CONT (0.5) within GROUP (\r\n",
        "                    ORDER BY  age * 1.0\r\n",
        "                    ) OVER (\r\n",
        "                    PARTITION BY previous_condition_count\r\n",
        "                    ) AS perc_50,\r\n",
        "                    PERCENTILE_CONT (0.75) within GROUP (\r\n",
        "                    ORDER BY  age * 1.0\r\n",
        "                    ) OVER (\r\n",
        "                    PARTITION BY previous_condition_count\r\n",
        "                    ) AS perc_75,\r\n",
        "                    PERCENTILE_CONT (0.95) within GROUP (\r\n",
        "                    ORDER BY  age * 1.0\r\n",
        "                    ) OVER (\r\n",
        "                    PARTITION BY previous_condition_count\r\n",
        "                    ) AS perc_95\r\n",
        "          FROM      ${param.incidence_schema}.mm_incidence_transitions_age\r\n",
        "          WHERE     financial_year = '${param.analysis_year}'\r\n",
        "\r\n",
        "          ) x\r\n",
        "GROUP BY  previous_condition_count,\r\n",
        "          perc_05,\r\n",
        "          perc_25,\r\n",
        "          perc_50,\r\n",
        "          perc_75,\r\n",
        "          perc_95\r\n",
        "ORDER BY  previous_condition_count,\r\n",
        "          perc_05,\r\n",
        "          perc_25,\r\n",
        "          perc_50,\r\n",
        "          perc_75,\r\n",
        "          perc_95"
      ]
    },
    {
      "cell_type": "markdown",
      "metadata": {
        "nteract": {
          "transient": {
            "deleting": false
          }
        }
      },
      "source": [
        "**c - Create combined output**"
      ]
    },
    {
      "cell_type": "code",
      "execution_count": 6,
      "outputs": [],
      "metadata": {
        "jupyter": {
          "source_hidden": false,
          "outputs_hidden": false
        },
        "nteract": {
          "transient": {
            "deleting": false
          }
        },
        "microsoft": {
          "language": "sparksql"
        },
        "collapsed": false
      },
      "source": [
        "%%sql\r\n",
        "\r\n",
        "CREATE    OR REPLACE TEMPORARY VIEW combined_output AS\r\n",
        "\r\n",
        "SELECT    n.previous_condition_count,\r\n",
        "          incidence,\r\n",
        "          person_years,\r\n",
        "          (incidence * 1.0) / (person_years * 1.0) * 100 AS progression_rate,\r\n",
        "          perc_05,\r\n",
        "          perc_25,\r\n",
        "          perc_50,\r\n",
        "          perc_75,\r\n",
        "          perc_95\r\n",
        "FROM      headline_condition_count_transitions_denominator d\r\n",
        "INNER     JOIN headline_condition_count_transitions_numerator n on d.condition_count = n.previous_condition_count"
      ]
    },
    {
      "cell_type": "markdown",
      "metadata": {
        "nteract": {
          "transient": {
            "deleting": false
          }
        }
      },
      "source": [
        "**d - Calculate confidence intervals using Byar's method**\r\n",
        "\r\n",
        "This section uses `PHEindicatormethods` package `phe_rate` function."
      ]
    },
    {
      "cell_type": "markdown",
      "metadata": {
        "nteract": {
          "transient": {
            "deleting": false
          }
        }
      },
      "source": [
        "Convert to RSpark DataFrame then R DataFrame"
      ]
    },
    {
      "cell_type": "code",
      "execution_count": 7,
      "outputs": [],
      "metadata": {
        "jupyter": {
          "source_hidden": false,
          "outputs_hidden": false
        },
        "nteract": {
          "transient": {
            "deleting": false
          }
        },
        "microsoft": {
          "language": "r"
        }
      },
      "source": [
        "%%sparkr\r\n",
        "\r\n",
        "df_combined_r <- sql(\"SELECT * FROM combined_output\")"
      ]
    },
    {
      "cell_type": "code",
      "execution_count": 8,
      "outputs": [],
      "metadata": {
        "jupyter": {
          "source_hidden": false,
          "outputs_hidden": false
        },
        "nteract": {
          "transient": {
            "deleting": false
          }
        },
        "microsoft": {
          "language": "r"
        }
      },
      "source": [
        "%%sparkr\r\n",
        "\r\n",
        "r_combined <- collect(df_combined_r)"
      ]
    },
    {
      "cell_type": "markdown",
      "metadata": {
        "nteract": {
          "transient": {
            "deleting": false
          }
        }
      },
      "source": [
        "Calculate crude rate and confidence intervals"
      ]
    },
    {
      "cell_type": "code",
      "execution_count": 11,
      "outputs": [],
      "metadata": {
        "jupyter": {
          "source_hidden": false,
          "outputs_hidden": false
        },
        "nteract": {
          "transient": {
            "deleting": false
          }
        },
        "microsoft": {
          "language": "r"
        }
      },
      "source": [
        "%%sparkr\r\n",
        "\r\n",
        "# Calculate rates with confidence intervals\r\n",
        "r_crude_rate_output <- phe_rate(\r\n",
        "  data = r_combined,\r\n",
        "  x = incidence,\r\n",
        "  n = person_years,\r\n",
        "  multiplier = 100,\r\n",
        "  confidence = 0.95\r\n",
        ")\r\n",
        "\r\n",
        "# Convert the R DataFrame to a SparkR DataFrame\r\n",
        "df_r_crude_rate_output <- createDataFrame(r_crude_rate_output)\r\n",
        "\r\n",
        "# Save as a temporary view\r\n",
        "createOrReplaceTempView(df_r_crude_rate_output, \"r_crude_rate_output_view\")\r\n",
        ""
      ]
    },
    {
      "cell_type": "markdown",
      "metadata": {
        "nteract": {
          "transient": {
            "deleting": false
          }
        }
      },
      "source": [
        "**e - Apply small number suppression and export final table**\r\n",
        "\r\n",
        "<blockquote style=\"color: #D8000C; background-color: #FFD2D2; padding: 10px; border-left: 6px solid #D8000C;\">\r\n",
        "  <strong>⚠️ Warning:</strong> DROP TABLE is currently commented out, as this table does not need to be recreated each time the incidence analysis is run.\r\n",
        "</blockquote>"
      ]
    },
    {
      "cell_type": "code",
      "execution_count": null,
      "outputs": [],
      "metadata": {
        "jupyter": {
          "source_hidden": false,
          "outputs_hidden": false
        },
        "nteract": {
          "transient": {
            "deleting": false
          }
        },
        "microsoft": {
          "language": "sparksql"
        }
      },
      "source": [
        "%%sql\r\n",
        "\r\n",
        "--DROP TABLE IF EXISTS ${param.incidence_schema}.output_01F_incidence_results_by_initial_condition_count"
      ]
    },
    {
      "cell_type": "code",
      "execution_count": 12,
      "outputs": [],
      "metadata": {
        "jupyter": {
          "source_hidden": false,
          "outputs_hidden": false
        },
        "nteract": {
          "transient": {
            "deleting": false
          }
        },
        "microsoft": {
          "language": "sparksql"
        },
        "collapsed": false
      },
      "source": [
        "%%sql\r\n",
        "\r\n",
        "CREATE    TABLE ${param.incidence_schema}.output_01F_incidence_results_by_initial_condition_count USING PARQUET AS\r\n",
        "SELECT    previous_condition_count,\r\n",
        "          CASE\r\n",
        "                    WHEN person_years BETWEEN 1 AND 7  THEN '***'\r\n",
        "                    ELSE CAST(person_years AS STRING)\r\n",
        "          END AS person_years,\r\n",
        "          CASE\r\n",
        "                    WHEN incidence BETWEEN 1 AND 7  THEN '***'\r\n",
        "                    ELSE CAST(incidence AS STRING)\r\n",
        "          END AS incidence,\r\n",
        "          value as progression_rate,\r\n",
        "          lowercl as lower_cl,\r\n",
        "          uppercl as upper_cl,\r\n",
        "          perc_05,\r\n",
        "          perc_25,\r\n",
        "          perc_50,\r\n",
        "          perc_75,\r\n",
        "          perc_95\r\n",
        "FROM      r_crude_rate_output_view\r\n",
        "ORDER BY  previous_condition_count"
      ]
    },
    {
      "cell_type": "code",
      "execution_count": 13,
      "outputs": [],
      "metadata": {
        "jupyter": {
          "source_hidden": false,
          "outputs_hidden": false
        },
        "nteract": {
          "transient": {
            "deleting": false
          }
        },
        "microsoft": {
          "language": "sparksql"
        },
        "collapsed": false
      },
      "source": [
        "%%sql\r\n",
        "\r\n",
        "SELECT    *\r\n",
        "FROM      ${param.incidence_schema}.output_01F_incidence_results_by_initial_condition_count"
      ]
    },
    {
      "cell_type": "markdown",
      "metadata": {
        "nteract": {
          "transient": {
            "deleting": false
          }
        }
      },
      "source": [
        "Five year age band breakdown of numerator transitions (to reference in Results)"
      ]
    },
    {
      "cell_type": "code",
      "execution_count": 11,
      "outputs": [],
      "metadata": {
        "microsoft": {
          "language": "sparksql"
        },
        "collapsed": false
      },
      "source": [
        "     \r\n",
        "%%sql\r\n",
        "SELECT    previous_condition_count,\r\n",
        "          CASE\r\n",
        "                    WHEN mm.age >= 90 THEN '90+'\r\n",
        "                    ELSE quinary\r\n",
        "          END AS age_band,\r\n",
        "          CASE\r\n",
        "                    WHEN COUNT(*) BETWEEN 1 AND 7  THEN '***'\r\n",
        "                    ELSE COUNT(*)\r\n",
        "          END AS incidence\r\n",
        "FROM      ${param.incidence_schema}.mm_incidence_transitions_age mm\r\n",
        "INNER     JOIN ${param.segmentation_schema}.dim_age a ON a.age = mm.age\r\n",
        "WHERE     financial_year = '${param.analysis_year}'\r\n",
        "GROUP BY  previous_condition_count,\r\n",
        "          CASE\r\n",
        "                    WHEN mm.age >= 90 THEN '90+'\r\n",
        "                    ELSE quinary\r\n",
        "          END\r\n",
        "ORDER BY  previous_condition_count,\r\n",
        "          CASE\r\n",
        "                    WHEN mm.age >= 90 THEN '90+'\r\n",
        "                    ELSE quinary\r\n",
        "          END"
      ]
    }
  ],
  "metadata": {
    "save_output": true,
    "kernelspec": {
      "name": "synapse_pyspark",
      "display_name": "Synapse PySpark"
    },
    "language_info": {
      "name": "python"
    }
  }
}
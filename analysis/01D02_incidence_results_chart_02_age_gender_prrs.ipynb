{
  "cells": [
    {
      "cell_type": "markdown",
      "metadata": {
        "nteract": {
          "transient": {
            "deleting": false
          }
        }
      },
      "source": [
        "### **01 - Incidence of MLTC**\n",
        "#### **01D02 - Manuscript outputs - age standardisation outputs**\n",
        "\n",
        "**Chart**: Progression rate ratios by age and gender"
      ]
    },
    {
      "cell_type": "markdown",
      "metadata": {
        "nteract": {
          "transient": {
            "deleting": false
          }
        }
      },
      "source": [
        "**Imports**"
      ]
    },
    {
      "cell_type": "code",
      "execution_count": 1,
      "metadata": {
        "jupyter": {
          "outputs_hidden": false,
          "source_hidden": false
        },
        "microsoft": {
          "language": "python"
        },
        "nteract": {
          "transient": {
            "deleting": false
          }
        }
      },
      "outputs": [],
      "source": [
        "%%pyspark\n",
        "# required import\n",
        "\n",
        "# requires blank line after last import\n"
      ]
    },
    {
      "cell_type": "code",
      "execution_count": 2,
      "metadata": {
        "jupyter": {
          "outputs_hidden": false,
          "source_hidden": false
        },
        "microsoft": {
          "language": "r"
        },
        "nteract": {
          "transient": {
            "deleting": false
          }
        }
      },
      "outputs": [],
      "source": [
        "%%sparkr\n",
        "\n",
        "if (!requireNamespace(\"svglite\", quietly = TRUE)) {\n",
        "  install.packages(\"svglite\")\n",
        "}"
      ]
    },
    {
      "cell_type": "code",
      "execution_count": 3,
      "metadata": {
        "jupyter": {
          "outputs_hidden": false,
          "source_hidden": false
        },
        "nteract": {
          "transient": {
            "deleting": false
          }
        }
      },
      "outputs": [],
      "source": [
        "# Load necessary libraries\n",
        "library(SparkR)\n",
        "library(ggplot2)\n",
        "library(patchwork)\n",
        "library(svglite)"
      ]
    },
    {
      "cell_type": "markdown",
      "metadata": {
        "nteract": {
          "transient": {
            "deleting": false
          }
        }
      },
      "source": [
        "**Parameter cell**"
      ]
    },
    {
      "cell_type": "code",
      "execution_count": 4,
      "metadata": {
        "jupyter": {
          "outputs_hidden": false,
          "source_hidden": false
        },
        "microsoft": {
          "language": "python"
        },
        "nteract": {
          "transient": {
            "deleting": false
          }
        },
        "tags": [
          "parameters"
        ]
      },
      "outputs": [],
      "source": [
        "%%pyspark\n",
        "# parameter cell\n",
        "incidence_schema = \"\"  # \"mltc_incidence_outputs_v40_20230331\"\n",
        "\n",
        "# optional, can be blank\n"
      ]
    },
    {
      "cell_type": "code",
      "execution_count": 5,
      "metadata": {
        "jupyter": {
          "outputs_hidden": false,
          "source_hidden": false
        },
        "microsoft": {
          "language": "python"
        },
        "nteract": {
          "transient": {
            "deleting": false
          }
        }
      },
      "outputs": [],
      "source": [
        "%%pyspark\n",
        "# Set parameters in Spark configuration with 'param.' prefix (for use in SQL cells)\n",
        "spark.conf.set(\"param.incidence_schema\", incidence_schema)\n"
      ]
    },
    {
      "cell_type": "markdown",
      "metadata": {
        "nteract": {
          "transient": {
            "deleting": false
          }
        }
      },
      "source": [
        "---\n",
        "\n",
        "#### **Creating the plot**"
      ]
    },
    {
      "cell_type": "markdown",
      "metadata": {
        "nteract": {
          "transient": {
            "deleting": false
          }
        }
      },
      "source": [
        "**a - Load data**"
      ]
    },
    {
      "cell_type": "code",
      "execution_count": 6,
      "metadata": {
        "jupyter": {
          "outputs_hidden": false,
          "source_hidden": false
        },
        "nteract": {
          "transient": {
            "deleting": false
          }
        }
      },
      "outputs": [],
      "source": [
        "data <- sql(\"SELECT * FROM ${param.incidence_schema}.output_01d02_incidence_results_age_standardisation\")"
      ]
    },
    {
      "cell_type": "markdown",
      "metadata": {
        "nteract": {
          "transient": {
            "deleting": false
          }
        }
      },
      "source": [
        "**b - Create plot**"
      ]
    },
    {
      "cell_type": "markdown",
      "metadata": {
        "nteract": {
          "transient": {
            "deleting": false
          }
        }
      },
      "source": [
        "Data cleaning steps"
      ]
    },
    {
      "cell_type": "code",
      "execution_count": 7,
      "metadata": {},
      "outputs": [],
      "source": [
        "# Replace NA values with \"All\"\n",
        "data <- withColumn(data, \"gender_description\", regexp_replace(data$gender_description, \"^NA$\", \"All\"))\n",
        "\n",
        "data <- withColumn(data, \"breakdown_type\", regexp_replace(data$breakdown_type, \"^NA$\", \"All\"))\n",
        "\n",
        "data <- withColumn(data, \"socio_demographic_breakdown\", regexp_replace(data$socio_demographic_breakdown, \"^NA$\", \"All\"))\n",
        "\n",
        "# Convert columns to numeric\n",
        "data <- withColumn(data, \"prr_1_2\", \n",
        "                   cast(data$prr_1_2, \"double\"))\n",
        "data <- withColumn(data, \"prr_2_3\", \n",
        "                   cast(data$prr_2_3, \"double\"))\n",
        "data <- withColumn(data, \"lower_cl_prr_1_2\", \n",
        "                   cast(data$lower_cl_prr_1_2, \"double\"))\n",
        "data <- withColumn(data, \"upper_cl_prr_1_2\", \n",
        "                   cast(data$upper_cl_prr_1_2, \"double\"))\n",
        "data <- withColumn(data, \"lower_cl_prr_2_3\", \n",
        "                   cast(data$lower_cl_prr_2_3, \"double\"))\n",
        "data <- withColumn(data, \"upper_cl_prr_2_3\", \n",
        "                   cast(data$upper_cl_prr_2_3, \"double\"))\n",
        "\n",
        "# Filter data for Female and Male with breakdown_type \"Age\"\n",
        "female_data <- SparkR::filter(data, \n",
        "                              data$gender_description == \"FEMALE\" & \n",
        "                              (data$breakdown_type == \"Age\" | data$breakdown_type == \"All\"))\n",
        "\n",
        "male_data <- SparkR::filter(data, \n",
        "                            data$gender_description == \"MALE\" & \n",
        "                            (data$breakdown_type == \"Age\" | data$breakdown_type == \"All\"))"
      ]
    },
    {
      "cell_type": "markdown",
      "metadata": {
        "nteract": {
          "transient": {
            "deleting": false
          }
        }
      },
      "source": [
        "Unpivot data for easier charting"
      ]
    },
    {
      "cell_type": "code",
      "execution_count": 8,
      "metadata": {
        "jupyter": {
          "outputs_hidden": false,
          "source_hidden": false
        },
        "nteract": {
          "transient": {
            "deleting": false
          }
        }
      },
      "outputs": [],
      "source": [
        "# Reshape female data\n",
        "female_long_1_2 <- SparkR::select(female_data, \n",
        "                                  female_data$socio_demographic_breakdown,\n",
        "                                  alias(female_data$prr_1_2, \"Value\"),\n",
        "                                  alias(lit(\"prr_1_2\"), \"PRR\"),\n",
        "                                  alias(female_data$lower_cl_prr_1_2, \"Lower_CL\"),\n",
        "                                  alias(female_data$upper_cl_prr_1_2, \"Upper_CL\"))\n",
        "\n",
        "female_long_2_3 <- SparkR::select(female_data, \n",
        "                                  female_data$socio_demographic_breakdown,\n",
        "                                  alias(female_data$prr_2_3, \"Value\"),\n",
        "                                  alias(lit(\"prr_2_3\"), \"PRR\"),\n",
        "                                  alias(female_data$lower_cl_prr_2_3, \"Lower_CL\"),\n",
        "                                  alias(female_data$upper_cl_prr_2_3, \"Upper_CL\"))\n",
        "\n",
        "female_long <- unionAll(female_long_1_2, female_long_2_3)\n",
        "\n",
        "# Reshape male data\n",
        "male_long_1_2 <- SparkR::select(male_data, \n",
        "                                  male_data$socio_demographic_breakdown,\n",
        "                                  alias(male_data$prr_1_2, \"Value\"),\n",
        "                                  alias(lit(\"prr_1_2\"), \"PRR\"),\n",
        "                                  alias(male_data$lower_cl_prr_1_2, \"Lower_CL\"),\n",
        "                                  alias(male_data$upper_cl_prr_1_2, \"Upper_CL\"))\n",
        "\n",
        "male_long_2_3 <- SparkR::select(male_data, \n",
        "                                  male_data$socio_demographic_breakdown,\n",
        "                                  alias(male_data$prr_2_3, \"Value\"),\n",
        "                                  alias(lit(\"prr_2_3\"), \"PRR\"),\n",
        "                                  alias(male_data$lower_cl_prr_2_3, \"Lower_CL\"),\n",
        "                                  alias(male_data$upper_cl_prr_2_3, \"Upper_CL\"))\n",
        "\n",
        "male_long <- unionAll(male_long_1_2, male_long_2_3)"
      ]
    },
    {
      "cell_type": "markdown",
      "metadata": {
        "nteract": {
          "transient": {
            "deleting": false
          }
        }
      },
      "source": [
        "Create R data frames"
      ]
    },
    {
      "cell_type": "code",
      "execution_count": 9,
      "metadata": {
        "jupyter": {
          "outputs_hidden": false,
          "source_hidden": false
        },
        "nteract": {
          "transient": {
            "deleting": false
          }
        }
      },
      "outputs": [],
      "source": [
        "# Collect the data into local data frames for plotting\n",
        "female_long_local <- SparkR::collect(female_long)\n",
        "male_long_local <- SparkR::collect(male_long)"
      ]
    },
    {
      "cell_type": "markdown",
      "metadata": {
        "nteract": {
          "transient": {
            "deleting": false
          }
        }
      },
      "source": [
        "Create charts"
      ]
    },
    {
      "cell_type": "code",
      "execution_count": 27,
      "metadata": {
        "jupyter": {
          "outputs_hidden": false,
          "source_hidden": false
        },
        "nteract": {
          "transient": {
            "deleting": false
          }
        }
      },
      "outputs": [],
      "source": [
        "# Calculate the maximum value for the y-axis across both datasets\n",
        "max_value <- max(c(female_long_local$Upper_CL, male_long_local$Upper_CL), na.rm = TRUE) * 1.1\n",
        "\n",
        "# Create the plot for Female\n",
        "plot_female <- ggplot(female_long_local, aes(x = socio_demographic_breakdown, y = Value, fill = PRR)) +\n",
        "  geom_bar(stat = \"identity\", position = position_dodge(width = 0.95)) +\n",
        "  geom_errorbar(aes(ymin = Lower_CL, ymax = Upper_CL), width = 0.2, position = position_dodge(width = 0.95)) +\n",
        "  labs(title = \"Female\", y = \"Progression Rate Ratio\", x = \"Age group\") +\n",
        "  scale_fill_manual(values = c(\"prr_1_2\" = \"#28b8d1\", \"prr_2_3\" = \"#005494\"),\n",
        "                    labels = c(\"PRR 1 to 2+ conditions\", \"PRR 2 to 3+ conditions\")) +\n",
        "  theme_minimal() +\n",
        "  theme(\n",
        "    text = element_text(family = \"Helvetica\"),\n",
        "    plot.title = element_text(size = 25),\n",
        "    axis.title = element_text(size = 20),\n",
        "    axis.text = element_text(size = 15),\n",
        "    legend.title = element_blank(),\n",
        "    legend.text = element_text(size = 25)\n",
        "  ) +\n",
        "  coord_cartesian(ylim = c(1.0, max_value)) +  # Zoom into the y-axis range\n",
        "  scale_y_continuous(breaks = seq(1.0, max_value, by = 0.5), expand = c(0, 0))  # Explicitly set breaks and remove padding\n",
        "\n",
        "# Create the plot for Male\n",
        "plot_male <- ggplot(male_long_local, aes(x = socio_demographic_breakdown, y = Value, fill = PRR)) +\n",
        "  geom_bar(stat = \"identity\", position = position_dodge(width = 0.95)) +\n",
        "  geom_errorbar(aes(ymin = Lower_CL, ymax = Upper_CL), width = 0.2, position = position_dodge(width = 0.95)) +\n",
        "  labs(title = \"Male\", y = \"Progression Rate Ratio\", x = \"Age group\") +\n",
        "  scale_fill_manual(values = c(\"prr_1_2\" = \"#28b8d1\", \"prr_2_3\" = \"#005494\"),\n",
        "                    labels = c(\"PRR 1 to 2+ conditions\", \"PRR 2 to 3+ conditions\")) +\n",
        "  theme_minimal() +\n",
        "  theme(\n",
        "    text = element_text(family = \"Helvetica\"),\n",
        "    plot.title = element_text(size = 25),\n",
        "    axis.title = element_text(size = 20),\n",
        "    axis.text = element_text(size = 15),\n",
        "    legend.title = element_blank(),\n",
        "    legend.text = element_text(size = 25)\n",
        "  ) +\n",
        "  coord_cartesian(ylim = c(1.0, max_value)) +  # Zoom into the y-axis range\n",
        "  scale_y_continuous(breaks = seq(1.0, max_value, by = 0.5), expand = c(0, 0))  # Explicitly set breaks and remove padding\n",
        "\n",
        "# Combine plots using patchwork and add a shared legend\n",
        "final_plot <- (plot_female | plot_male) + plot_layout(guides = \"collect\") & theme(legend.position = \"bottom\")\n",
        "\n",
        "# Display the combined plot\n",
        "print(final_plot)"
      ]
    }
  ],
  "metadata": {
    "kernelspec": {
      "display_name": "r",
      "name": "synapse_sparkr"
    },
    "language_info": {
      "name": "r"
    },
    "save_output": true
  },
  "nbformat": 4,
  "nbformat_minor": 2
}

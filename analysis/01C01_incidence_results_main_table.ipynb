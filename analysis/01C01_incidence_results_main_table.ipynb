{
  "nbformat": 4,
  "nbformat_minor": 2,
  "cells": [
    {
      "cell_type": "markdown",
      "metadata": {
        "nteract": {
          "transient": {
            "deleting": false
          }
        }
      },
      "source": [
        "### **01 - Incidence of MLTC**\r\n",
        "#### **01C01 - Manuscript outputs - main table progression rates**\r\n",
        "\r\n",
        "This notebook creates the inputs for 01C02, which calculates Progression Rate Ratios (PRRs) and applies confidence intervals to both rates and PRRs"
      ]
    },
    {
      "cell_type": "markdown",
      "metadata": {
        "nteract": {
          "transient": {
            "deleting": false
          }
        }
      },
      "source": [
        "**Imports**"
      ]
    },
    {
      "cell_type": "code",
      "execution_count": 1,
      "outputs": [],
      "metadata": {
        "jupyter": {
          "source_hidden": false,
          "outputs_hidden": false
        },
        "nteract": {
          "transient": {
            "deleting": false
          }
        }
      },
      "source": [
        "# required imports\r\n",
        "\r\n",
        "# requires blank line after last import\r\n",
        ""
      ]
    },
    {
      "cell_type": "markdown",
      "metadata": {
        "nteract": {
          "transient": {
            "deleting": false
          }
        }
      },
      "source": [
        "**Parameter cell**"
      ]
    },
    {
      "cell_type": "code",
      "execution_count": 2,
      "outputs": [],
      "metadata": {
        "jupyter": {
          "source_hidden": false,
          "outputs_hidden": false
        },
        "nteract": {
          "transient": {
            "deleting": false
          }
        },
        "tags": [
          "parameters"
        ]
      },
      "source": [
        "# parameter cell\r\n",
        "incidence_schema = \"\"  # \"mltc_incidence_outputs_v40_20230331\"\r\n",
        "analysis_year = \"\"  # \"2022/23\"\r\n",
        "segmentation_schema = \"\"  # \"obh_segmentation_v40_20230331\"\r\n",
        "\r\n",
        "# optional, can be blank\r\n",
        ""
      ]
    },
    {
      "cell_type": "code",
      "execution_count": 3,
      "outputs": [],
      "metadata": {
        "jupyter": {
          "source_hidden": false,
          "outputs_hidden": false
        },
        "nteract": {
          "transient": {
            "deleting": false
          }
        }
      },
      "source": [
        "# Set parameters in Spark configuration with 'param.' prefix (for use in SQL cells)\r\n",
        "spark.conf.set(\"param.incidence_schema\", incidence_schema)\r\n",
        "spark.conf.set(\"param.analysis_year\", analysis_year)\r\n",
        "spark.conf.set(\"param.segmentation_schema\", segmentation_schema)\r\n",
        ""
      ]
    },
    {
      "cell_type": "markdown",
      "metadata": {
        "nteract": {
          "transient": {
            "deleting": false
          }
        }
      },
      "source": [
        "---\r\n",
        "\r\n",
        "#### **01C01 - Manuscript outputs - main table progression rates**"
      ]
    },
    {
      "cell_type": "markdown",
      "metadata": {
        "nteract": {
          "transient": {
            "deleting": false
          }
        }
      },
      "source": [
        "\r\n",
        "**2022/23 main descriptive table - incidence of 1+, 2+, 3+ conditions overall and by socio-demographic breakdowns**\r\n",
        "\r\n",
        "Separate queries are included below (and unioned together) for each combination of breakdowns required for the main manuscript results table:\r\n",
        "- Overall (no breakdowns)\r\n",
        "- Gender\r\n",
        "- Age and gender\r\n",
        "- Age and ethnicity\r\n",
        "- Age and IMD\r\n",
        "\r\n",
        "Two temporary views are created:\r\n",
        "- The first creates a numerator table (counting transitions at each MLTC progression level)\r\n",
        "- The second creates a denominator table (summing person_years at each base MLTC progression state)\r\n",
        "\r\n",
        "These are then used in a third query below to extract crude outputs for the main results table. These are then used as the input for the next notebook (01C02, which calculates PRRs and confidence intervals)"
      ]
    },
    {
      "cell_type": "markdown",
      "metadata": {
        "nteract": {
          "transient": {
            "deleting": false
          }
        }
      },
      "source": [
        "Numerator temporary view:"
      ]
    },
    {
      "cell_type": "code",
      "execution_count": 5,
      "outputs": [],
      "metadata": {
        "jupyter": {
          "source_hidden": false,
          "outputs_hidden": false
        },
        "nteract": {
          "transient": {
            "deleting": false
          }
        },
        "microsoft": {
          "language": "sparksql"
        },
        "collapsed": false
      },
      "source": [
        "%%sql\r\n",
        "CREATE    OR REPLACE TEMPORARY VIEW overall_numerator_combined AS\r\n",
        "\r\n",
        "-- Overall output\r\n",
        "SELECT    'NA' AS gender_description,\r\n",
        "          'NA' AS breakdown_type,\r\n",
        "          'NA' AS socio_demographic_breakdown,\r\n",
        "          COUNT(\r\n",
        "          CASE\r\n",
        "                    WHEN previous_condition_count = 0\r\n",
        "                    AND       condition_count >= 1 THEN 1\r\n",
        "                              ELSE NULL\r\n",
        "          END\r\n",
        "          ) AS incidence_0_1_plus,\r\n",
        "          COUNT(\r\n",
        "          CASE\r\n",
        "                    WHEN previous_condition_count = 1\r\n",
        "                    AND       condition_count >= 2 THEN 1\r\n",
        "                              ELSE NULL\r\n",
        "          END\r\n",
        "          ) AS incidence_1_2_plus,\r\n",
        "          COUNT(\r\n",
        "          CASE\r\n",
        "                    WHEN previous_condition_count = 2\r\n",
        "                    AND       condition_count >= 3 THEN 1\r\n",
        "                              ELSE NULL\r\n",
        "          END\r\n",
        "          ) AS incidence_2_3_plus\r\n",
        "FROM      ${param.incidence_schema}.mm_incidence_transitions_age m\r\n",
        "WHERE     financial_year = '${param.analysis_year}'\r\n",
        "UNION ALL\r\n",
        "\r\n",
        "-- Gender breakdown only\r\n",
        "SELECT    gender_description,\r\n",
        "          'NA' AS breakdown_type,\r\n",
        "          'NA' AS socio_demographic_breakdown,\r\n",
        "          COUNT(\r\n",
        "          CASE\r\n",
        "                    WHEN previous_condition_count = 0\r\n",
        "                    AND       condition_count >= 1 THEN 1\r\n",
        "                              ELSE NULL\r\n",
        "          END\r\n",
        "          ) AS incidence_0_1_plus,\r\n",
        "          COUNT(\r\n",
        "          CASE\r\n",
        "                    WHEN previous_condition_count = 1\r\n",
        "                    AND       condition_count >= 2 THEN 1\r\n",
        "                              ELSE NULL\r\n",
        "          END\r\n",
        "          ) AS incidence_1_2_plus,\r\n",
        "          COUNT(\r\n",
        "          CASE\r\n",
        "                    WHEN previous_condition_count = 2\r\n",
        "                    AND       condition_count >= 3 THEN 1\r\n",
        "                              ELSE NULL\r\n",
        "          END\r\n",
        "          ) AS incidence_2_3_plus\r\n",
        "FROM      ${param.incidence_schema}.mm_incidence_transitions_age m\r\n",
        "WHERE     financial_year = '${param.analysis_year}'\r\n",
        "GROUP BY  gender_description\r\n",
        "UNION ALL\r\n",
        "\r\n",
        "-- Age and gender breakdown\r\n",
        "SELECT    gender_description,\r\n",
        "          'Age' AS breakdown_type,\r\n",
        "          age_band AS socio_demographic_breakdown,\r\n",
        "          COUNT(\r\n",
        "          CASE\r\n",
        "                    WHEN previous_condition_count = 0\r\n",
        "                    AND       condition_count >= 1 THEN 1\r\n",
        "                              ELSE NULL\r\n",
        "          END\r\n",
        "          ) AS incidence_0_1_plus,\r\n",
        "          COUNT(\r\n",
        "          CASE\r\n",
        "                    WHEN previous_condition_count = 1\r\n",
        "                    AND       condition_count >= 2 THEN 1\r\n",
        "                              ELSE NULL\r\n",
        "          END\r\n",
        "          ) AS incidence_1_2_plus,\r\n",
        "          COUNT(\r\n",
        "          CASE\r\n",
        "                    WHEN previous_condition_count = 2\r\n",
        "                    AND       condition_count >= 3 THEN 1\r\n",
        "                              ELSE NULL\r\n",
        "          END\r\n",
        "          ) AS incidence_2_3_plus\r\n",
        "FROM      ${param.incidence_schema}.mm_incidence_transitions_age m\r\n",
        "WHERE     financial_year = '${param.analysis_year}'\r\n",
        "GROUP BY  gender_description,\r\n",
        "          age_band\r\n",
        "UNION ALL\r\n",
        "\r\n",
        "-- Gender and ethnicity breakdown\r\n",
        "SELECT    gender_description,\r\n",
        "          'Ethnicity' AS breakdown_type,\r\n",
        "          census_2011_ethnic_group AS socio_demographic_breakdown,\r\n",
        "          COUNT(\r\n",
        "          CASE\r\n",
        "                    WHEN previous_condition_count = 0\r\n",
        "                    AND       condition_count >= 1 THEN 1\r\n",
        "                              ELSE NULL\r\n",
        "          END\r\n",
        "          ) AS incidence_0_1_plus,\r\n",
        "          COUNT(\r\n",
        "          CASE\r\n",
        "                    WHEN previous_condition_count = 1\r\n",
        "                    AND       condition_count >= 2 THEN 1\r\n",
        "                              ELSE NULL\r\n",
        "          END\r\n",
        "          ) AS incidence_1_2_plus,\r\n",
        "          COUNT(\r\n",
        "          CASE\r\n",
        "                    WHEN previous_condition_count = 2\r\n",
        "                    AND       condition_count >= 3 THEN 1\r\n",
        "                              ELSE NULL\r\n",
        "          END\r\n",
        "          ) AS incidence_2_3_plus\r\n",
        "FROM      ${param.incidence_schema}.mm_incidence_transitions_age m\r\n",
        "WHERE     financial_year = '${param.analysis_year}'\r\n",
        "GROUP BY  gender_description,\r\n",
        "          census_2011_ethnic_group\r\n",
        "UNION ALL\r\n",
        "\r\n",
        "-- Gender and IMD breakdown\r\n",
        "SELECT    gender_description,\r\n",
        "          'IMD' AS breakdown_type,\r\n",
        "          imd_quintile AS socio_demographic_breakdown,\r\n",
        "          COUNT(\r\n",
        "          CASE\r\n",
        "                    WHEN previous_condition_count = 0\r\n",
        "                    AND       condition_count >= 1 THEN 1\r\n",
        "                              ELSE NULL\r\n",
        "          END\r\n",
        "          ) AS incidence_0_1_plus,\r\n",
        "          COUNT(\r\n",
        "          CASE\r\n",
        "                    WHEN previous_condition_count = 1\r\n",
        "                    AND       condition_count >= 2 THEN 1\r\n",
        "                              ELSE NULL\r\n",
        "          END\r\n",
        "          ) AS incidence_1_2_plus,\r\n",
        "          COUNT(\r\n",
        "          CASE\r\n",
        "                    WHEN previous_condition_count = 2\r\n",
        "                    AND       condition_count >= 3 THEN 1\r\n",
        "                              ELSE NULL\r\n",
        "          END\r\n",
        "          ) AS incidence_2_3_plus\r\n",
        "FROM      ${param.incidence_schema}.mm_incidence_transitions_age m\r\n",
        "WHERE     financial_year = '${param.analysis_year}'\r\n",
        "GROUP BY  gender_description,\r\n",
        "          imd_quintile"
      ]
    },
    {
      "cell_type": "markdown",
      "metadata": {
        "nteract": {
          "transient": {
            "deleting": false
          }
        }
      },
      "source": [
        "Denominator temporary view:"
      ]
    },
    {
      "cell_type": "code",
      "execution_count": 6,
      "outputs": [],
      "metadata": {
        "jupyter": {
          "source_hidden": false,
          "outputs_hidden": false
        },
        "nteract": {
          "transient": {
            "deleting": false
          }
        },
        "microsoft": {
          "language": "sparksql"
        },
        "collapsed": false
      },
      "source": [
        "%%sql\r\n",
        "\r\n",
        "CREATE    OR REPLACE TEMPORARY VIEW overall_denominator_combined AS\r\n",
        "\r\n",
        "-- Overall output\r\n",
        "SELECT    'NA' AS gender_description,\r\n",
        "          'NA' AS breakdown_type,\r\n",
        "          'NA' AS socio_demographic_breakdown,\r\n",
        "          SUM(unique_people_fy_end) AS unique_people_fy_end,\r\n",
        "          SUM(\r\n",
        "          CASE\r\n",
        "                    WHEN condition_count = 0 THEN person_years\r\n",
        "                    ELSE NULL\r\n",
        "          END\r\n",
        "          ) AS person_years_0,\r\n",
        "          SUM(\r\n",
        "          CASE\r\n",
        "                    WHEN condition_count = 1 THEN person_years\r\n",
        "                    ELSE NULL\r\n",
        "          END\r\n",
        "          ) AS person_years_1,\r\n",
        "          SUM(\r\n",
        "          CASE\r\n",
        "                    WHEN condition_count = 2 THEN person_years\r\n",
        "                    ELSE NULL\r\n",
        "          END\r\n",
        "          ) AS person_years_2\r\n",
        "FROM      ${param.incidence_schema}.mm_incidence_person_time m\r\n",
        "WHERE     financial_year = '${param.analysis_year}'\r\n",
        "UNION ALL\r\n",
        "\r\n",
        "-- Gender breakdown only\r\n",
        "SELECT    gender_description,\r\n",
        "          'NA' AS breakdown_type,\r\n",
        "          'NA' AS socio_demographic_breakdown,\r\n",
        "          SUM(unique_people_fy_end) AS unique_people_fy_end,\r\n",
        "          SUM(\r\n",
        "          CASE\r\n",
        "                    WHEN condition_count = 0 THEN person_years\r\n",
        "                    ELSE NULL\r\n",
        "          END\r\n",
        "          ) AS person_years_0,\r\n",
        "          SUM(\r\n",
        "          CASE\r\n",
        "                    WHEN condition_count = 1 THEN person_years\r\n",
        "                    ELSE NULL\r\n",
        "          END\r\n",
        "          ) AS person_years_1,\r\n",
        "          SUM(\r\n",
        "          CASE\r\n",
        "                    WHEN condition_count = 2 THEN person_years\r\n",
        "                    ELSE NULL\r\n",
        "          END\r\n",
        "          ) AS person_years_2\r\n",
        "FROM      ${param.incidence_schema}.mm_incidence_person_time m\r\n",
        "WHERE     financial_year = '${param.analysis_year}'\r\n",
        "GROUP BY  gender_description\r\n",
        "UNION ALL\r\n",
        "\r\n",
        "-- Age and gender breakdown\r\n",
        "SELECT    gender_description,\r\n",
        "          'Age' AS breakdown_type,\r\n",
        "          age_band AS socio_demographic_breakdown,\r\n",
        "          SUM(unique_people_fy_end) AS unique_people_fy_end,\r\n",
        "          SUM(\r\n",
        "          CASE\r\n",
        "                    WHEN condition_count = 0 THEN person_years\r\n",
        "                    ELSE NULL\r\n",
        "          END\r\n",
        "          ) AS person_years_0,\r\n",
        "          SUM(\r\n",
        "          CASE\r\n",
        "                    WHEN condition_count = 1 THEN person_years\r\n",
        "                    ELSE NULL\r\n",
        "          END\r\n",
        "          ) AS person_years_1,\r\n",
        "          SUM(\r\n",
        "          CASE\r\n",
        "                    WHEN condition_count = 2 THEN person_years\r\n",
        "                    ELSE NULL\r\n",
        "          END\r\n",
        "          ) AS person_years_2\r\n",
        "FROM      ${param.incidence_schema}.mm_incidence_person_time m\r\n",
        "WHERE     financial_year = '${param.analysis_year}'\r\n",
        "GROUP BY  gender_description,\r\n",
        "          age_band\r\n",
        "UNION ALL\r\n",
        "\r\n",
        "-- Gender and ethnicity breakdown\r\n",
        "SELECT    gender_description,\r\n",
        "          'Ethnicity' AS breakdown_type,\r\n",
        "          census_2011_ethnic_group AS socio_demographic_breakdown,\r\n",
        "          SUM(unique_people_fy_end) AS unique_people_fy_end,\r\n",
        "          SUM(\r\n",
        "          CASE\r\n",
        "                    WHEN condition_count = 0 THEN person_years\r\n",
        "                    ELSE NULL\r\n",
        "          END\r\n",
        "          ) AS person_years_0,\r\n",
        "          SUM(\r\n",
        "          CASE\r\n",
        "                    WHEN condition_count = 1 THEN person_years\r\n",
        "                    ELSE NULL\r\n",
        "          END\r\n",
        "          ) AS person_years_1,\r\n",
        "          SUM(\r\n",
        "          CASE\r\n",
        "                    WHEN condition_count = 2 THEN person_years\r\n",
        "                    ELSE NULL\r\n",
        "          END\r\n",
        "          ) AS person_years_2\r\n",
        "FROM      ${param.incidence_schema}.mm_incidence_person_time m\r\n",
        "WHERE     financial_year = '${param.analysis_year}'\r\n",
        "GROUP BY  gender_description,\r\n",
        "          census_2011_ethnic_group\r\n",
        "UNION ALL\r\n",
        "\r\n",
        "-- Gender and IMD breakdown\r\n",
        "SELECT    gender_description,\r\n",
        "          'IMD' AS breakdown_type,\r\n",
        "          imd_quintile AS socio_demographic_breakdown,\r\n",
        "          SUM(unique_people_fy_end) AS unique_people_fy_end,\r\n",
        "          SUM(\r\n",
        "          CASE\r\n",
        "                    WHEN condition_count = 0 THEN person_years\r\n",
        "                    ELSE NULL\r\n",
        "          END\r\n",
        "          ) AS person_years_0,\r\n",
        "          SUM(\r\n",
        "          CASE\r\n",
        "                    WHEN condition_count = 1 THEN person_years\r\n",
        "                    ELSE NULL\r\n",
        "          END\r\n",
        "          ) AS person_years_1,\r\n",
        "          SUM(\r\n",
        "          CASE\r\n",
        "                    WHEN condition_count = 2 THEN person_years\r\n",
        "                    ELSE NULL\r\n",
        "          END\r\n",
        "          ) AS person_years_2\r\n",
        "FROM      ${param.incidence_schema}.mm_incidence_person_time m\r\n",
        "WHERE     financial_year = '${param.analysis_year}'\r\n",
        "GROUP BY  gender_description,\r\n",
        "          imd_quintile"
      ]
    },
    {
      "cell_type": "markdown",
      "metadata": {
        "nteract": {
          "transient": {
            "deleting": false
          }
        }
      },
      "source": [
        "**Create count of unique period population**\r\n",
        "\r\n",
        "Note: this cannot be calculated in the previous mm_incidence_person_time table, as period population figures will contain people that span multiple different condition count cohorts, and can therefore not be aggregated in the same way without double counting. For this reason they are calculated separately here.\r\n",
        "\r\n",
        "**Run time**: ~6 mins"
      ]
    },
    {
      "cell_type": "code",
      "execution_count": null,
      "outputs": [],
      "metadata": {
        "jupyter": {
          "source_hidden": false,
          "outputs_hidden": false
        },
        "nteract": {
          "transient": {
            "deleting": false
          }
        },
        "microsoft": {
          "language": "sparksql"
        }
      },
      "source": [
        "%%sql\r\n",
        "\r\n",
        "--DROP TABLE IF EXISTS ${param.incidence_schema}.mm_incidence_period_population"
      ]
    },
    {
      "cell_type": "code",
      "execution_count": 7,
      "outputs": [],
      "metadata": {
        "jupyter": {
          "source_hidden": false,
          "outputs_hidden": false
        },
        "nteract": {
          "transient": {
            "deleting": false
          }
        },
        "microsoft": {
          "language": "sparksql"
        },
        "collapsed": false
      },
      "source": [
        "%%sql\r\n",
        "\r\n",
        "CREATE     TABLE ${param.incidence_schema}.mm_incidence_period_population USING PARQUET AS\r\n",
        "\r\n",
        "-- Overall output\r\n",
        "SELECT    'NA' AS gender_description,\r\n",
        "          'NA' AS breakdown_type,\r\n",
        "          'NA' AS socio_demographic_breakdown,\r\n",
        "          COUNT(DISTINCT p.pseudo_nhs_number) as people\r\n",
        "FROM      ${param.segmentation_schema}.fact_model f\r\n",
        "INNER     JOIN ${param.incidence_schema}.dim_subsegment_combinations_config ssc ON ssc.old_subsegment_combination_id = f.subsegment_combination_id\r\n",
        "INNER     JOIN ${param.segmentation_schema}.dim_date d ON d.date_id = f.date_id\r\n",
        "INNER     JOIN ${param.segmentation_schema}.dim_person p ON p.person_id = f.person_id\r\n",
        "WHERE     f.gp_id IS NOT NULL\r\n",
        "AND       f.age_id>=20\r\n",
        "AND       d.financial_year = '${param.analysis_year}'\r\n",
        "UNION ALL\r\n",
        "\r\n",
        "-- Gender breakdown only\r\n",
        "SELECT    gender_description,\r\n",
        "          'NA' AS breakdown_type,\r\n",
        "          'NA' AS socio_demographic_breakdown,\r\n",
        "          COUNT(DISTINCT p.pseudo_nhs_number) as people\r\n",
        "FROM      ${param.segmentation_schema}.fact_model f\r\n",
        "INNER     JOIN ${param.incidence_schema}.dim_subsegment_combinations_config ssc ON ssc.old_subsegment_combination_id = f.subsegment_combination_id\r\n",
        "INNER     JOIN ${param.segmentation_schema}.dim_date d ON d.date_id = f.date_id\r\n",
        "INNER     JOIN ${param.segmentation_schema}.dim_person p ON p.person_id = f.person_id\r\n",
        "WHERE     f.gp_id IS NOT NULL\r\n",
        "AND       f.age_id>=20\r\n",
        "AND       d.financial_year = '${param.analysis_year}'\r\n",
        "GROUP     BY gender_description\r\n",
        "UNION ALL\r\n",
        "\r\n",
        "-- Age and gender breakdown\r\n",
        "SELECT    gender_description,\r\n",
        "          'Age' AS breakdown_type,\r\n",
        "          CASE WHEN a.ten_year IN ('90-99','100-109','110-119') THEN '90+' ELSE a.ten_year END AS socio_demographic_breakdown,\r\n",
        "          COUNT(DISTINCT p.pseudo_nhs_number) as people\r\n",
        "FROM      ${param.segmentation_schema}.fact_model f\r\n",
        "INNER     JOIN ${param.incidence_schema}.dim_subsegment_combinations_config ssc ON ssc.old_subsegment_combination_id = f.subsegment_combination_id\r\n",
        "INNER     JOIN ${param.segmentation_schema}.dim_date d ON d.date_id = f.date_id\r\n",
        "INNER     JOIN ${param.segmentation_schema}.dim_person p ON p.person_id = f.person_id\r\n",
        "INNER     JOIN ${param.segmentation_schema}.dim_age a ON a.age_id = f.age_id\r\n",
        "WHERE     f.gp_id IS NOT NULL\r\n",
        "AND       f.age_id>=20\r\n",
        "AND       d.financial_year = '${param.analysis_year}'\r\n",
        "GROUP     BY gender_description,\r\n",
        "          CASE WHEN a.ten_year IN ('90-99','100-109','110-119') THEN '90+' ELSE a.ten_year END\r\n",
        "UNION ALL\r\n",
        "\r\n",
        "-- Gender and ethnicity breakdown\r\n",
        "SELECT    gender_description,\r\n",
        "          'Ethnicity' AS breakdown_type,\r\n",
        "          census_2011_ethnic_group AS socio_demographic_breakdown,\r\n",
        "          COUNT(DISTINCT p.pseudo_nhs_number) as people\r\n",
        "FROM      ${param.segmentation_schema}.fact_model f\r\n",
        "INNER     JOIN ${param.incidence_schema}.dim_subsegment_combinations_config ssc ON ssc.old_subsegment_combination_id = f.subsegment_combination_id\r\n",
        "INNER     JOIN ${param.segmentation_schema}.dim_date d ON d.date_id = f.date_id\r\n",
        "INNER     JOIN ${param.segmentation_schema}.dim_person p ON p.person_id = f.person_id\r\n",
        "INNER     JOIN ${param.segmentation_schema}.dim_ethnicity e ON e.ethnicity_id = p.ethnicity_id\r\n",
        "WHERE     f.gp_id IS NOT NULL\r\n",
        "AND       f.age_id>=20\r\n",
        "AND       d.financial_year = '${param.analysis_year}'\r\n",
        "GROUP     BY gender_description,\r\n",
        "          census_2011_ethnic_group\r\n",
        "UNION ALL\r\n",
        "\r\n",
        "-- Gender and IMD breakdown\r\n",
        "SELECT    gender_description,\r\n",
        "          'IMD' AS breakdown_type,\r\n",
        "          imd_quintile AS socio_demographic_breakdown,\r\n",
        "          COUNT(DISTINCT p.pseudo_nhs_number) as people\r\n",
        "FROM      ${param.segmentation_schema}.fact_model f\r\n",
        "INNER     JOIN ${param.incidence_schema}.dim_subsegment_combinations_config ssc ON ssc.old_subsegment_combination_id = f.subsegment_combination_id\r\n",
        "INNER     JOIN ${param.segmentation_schema}.dim_date d ON d.date_id = f.date_id\r\n",
        "INNER     JOIN ${param.segmentation_schema}.dim_person p ON p.person_id = f.person_id\r\n",
        "WHERE     f.gp_id IS NOT NULL\r\n",
        "AND       f.age_id>=20\r\n",
        "AND       d.financial_year = '${param.analysis_year}'\r\n",
        "GROUP     BY gender_description,\r\n",
        "          imd_quintile"
      ]
    },
    {
      "cell_type": "markdown",
      "metadata": {
        "nteract": {
          "transient": {
            "deleting": false
          }
        }
      },
      "source": [
        "Calculate unique count of people over the whole study period\r\n",
        "\r\n",
        "**Note**: 2016/17 data is excluded for consistency with the trend analysis outputs (due to potential register effect impact). See 01E_incidence_results_trend_chart_01 for more detail."
      ]
    },
    {
      "cell_type": "code",
      "execution_count": null,
      "outputs": [],
      "metadata": {
        "microsoft": {
          "language": "sparksql"
        }
      },
      "source": [
        "%%sql\r\n",
        "\r\n",
        "--DROP TABLE IF EXISTS ${param.incidence_schema}.mm_incidence_period_population_6_years"
      ]
    },
    {
      "cell_type": "code",
      "execution_count": 5,
      "outputs": [],
      "metadata": {
        "microsoft": {
          "language": "sparksql"
        },
        "collapsed": false
      },
      "source": [
        "%%sql\r\n",
        "\r\n",
        "CREATE     TABLE ${param.incidence_schema}.mm_incidence_period_population_6_years USING PARQUET AS\r\n",
        "\r\n",
        "SELECT    'NA' AS gender_description,\r\n",
        "          'NA' AS breakdown_type,\r\n",
        "          'NA' AS socio_demographic_breakdown,\r\n",
        "          COUNT(DISTINCT p.pseudo_nhs_number) as people\r\n",
        "FROM      ${param.segmentation_schema}.fact_model f\r\n",
        "INNER     JOIN ${param.incidence_schema}.dim_subsegment_combinations_config ssc ON ssc.old_subsegment_combination_id = f.subsegment_combination_id\r\n",
        "INNER     JOIN ${param.segmentation_schema}.dim_date d ON d.date_id = f.date_id\r\n",
        "INNER     JOIN ${param.segmentation_schema}.dim_person p ON p.person_id = f.person_id\r\n",
        "WHERE     f.gp_id IS NOT NULL\r\n",
        "AND       f.age_id >= 20\r\n",
        "AND       d.date >= '2017-04-01' -- for consistency with trend output - see 01E_incidence_results_trend_chart_01"
      ]
    },
    {
      "cell_type": "markdown",
      "metadata": {
        "nteract": {
          "transient": {
            "deleting": false
          }
        }
      },
      "source": [
        "**Main results table**"
      ]
    },
    {
      "cell_type": "markdown",
      "metadata": {
        "nteract": {
          "transient": {
            "deleting": false
          }
        }
      },
      "source": [
        "This section uses the two tables to extract all crude results required for the main results table:\r\n",
        "\r\n",
        "**Note**:\r\n",
        "- `NULL` ethnicity and IMD are set to \"Unknown\" to improve readability of outputs\r\n",
        "- Population figures are extracted as\r\n",
        "   - Period population figures (i.e. all people in the population at any point in the given financial year)\r\n",
        "   - Point population (snapshot) figures (i.e. all people in the population at the end of the financial year)\r\n",
        "   - Person time (expressed as person years) spent in the population within the financial year"
      ]
    },
    {
      "cell_type": "code",
      "execution_count": 8,
      "outputs": [],
      "metadata": {
        "jupyter": {
          "source_hidden": false,
          "outputs_hidden": false
        },
        "nteract": {
          "transient": {
            "deleting": false
          }
        },
        "microsoft": {
          "language": "sparksql"
        },
        "collapsed": false
      },
      "source": [
        "%%sql\r\n",
        "\r\n",
        "--DROP TABLE IF EXISTS ${param.incidence_schema}.mm_incidence_transitions_main_results"
      ]
    },
    {
      "cell_type": "code",
      "execution_count": 10,
      "outputs": [],
      "metadata": {
        "jupyter": {
          "source_hidden": false,
          "outputs_hidden": false
        },
        "nteract": {
          "transient": {
            "deleting": false
          }
        },
        "microsoft": {
          "language": "sparksql"
        },
        "collapsed": false
      },
      "source": [
        "%%sql\r\n",
        "\r\n",
        "CREATE    TABLE ${param.incidence_schema}.mm_incidence_transitions_main_results USING PARQUET AS\r\n",
        "SELECT    d.gender_description,\r\n",
        "          d.breakdown_type,\r\n",
        "          COALESCE(d.socio_demographic_breakdown, 'Unknown') AS socio_demographic_breakdown,\r\n",
        "          p.people AS unique_people_fy_period,\r\n",
        "          d.unique_people_fy_end AS unique_people_fy_end,\r\n",
        "          d.person_years_0 AS person_years_0,\r\n",
        "          n.incidence_0_1_plus AS incidence_0_1_plus,\r\n",
        "          (n.incidence_0_1_plus * 1.0) / (d.person_years_0 * 1.0) * 100 AS progression_rate_0_1_plus,\r\n",
        "          d.person_years_1 AS person_years_1,\r\n",
        "          n.incidence_1_2_plus AS incidence_1_2_plus,\r\n",
        "          (n.incidence_1_2_plus * 1.0) / (d.person_years_1 * 1.0) * 100 AS progression_rate_1_2_plus,\r\n",
        "          d.person_years_2 AS person_years_2,\r\n",
        "          n.incidence_2_3_plus AS incidence_2_3_plus,\r\n",
        "          (n.incidence_2_3_plus * 1.0) / (d.person_years_2 * 1.0) * 100 AS progression_rate_2_3_plus\r\n",
        "FROM      overall_denominator_combined d\r\n",
        "LEFT      OUTER JOIN overall_numerator_combined n ON n.gender_description = d.gender_description\r\n",
        "AND       n.breakdown_type = d.breakdown_type\r\n",
        "AND       COALESCE(n.socio_demographic_breakdown, 'Unknown') = COALESCE(d.socio_demographic_breakdown, 'Unknown')\r\n",
        "LEFT      OUTER JOIN ${param.incidence_schema}.mm_incidence_period_population p ON p.gender_description = d.gender_description\r\n",
        "AND       p.breakdown_type = d.breakdown_type\r\n",
        "AND       COALESCE(p.socio_demographic_breakdown, 'Unknown') = COALESCE(d.socio_demographic_breakdown, 'Unknown')\r\n",
        "WHERE     d.gender_description NOT IN ('NOT KNOWN', 'NOT SPECIFIED')\r\n",
        "ORDER BY  d.gender_description,\r\n",
        "          d.breakdown_type,\r\n",
        "          COALESCE(d.socio_demographic_breakdown, 'Unknown')"
      ]
    }
  ],
  "metadata": {
    "save_output": true,
    "kernelspec": {
      "name": "synapse_pyspark",
      "display_name": "Synapse PySpark"
    },
    "language_info": {
      "name": "python"
    }
  }
}
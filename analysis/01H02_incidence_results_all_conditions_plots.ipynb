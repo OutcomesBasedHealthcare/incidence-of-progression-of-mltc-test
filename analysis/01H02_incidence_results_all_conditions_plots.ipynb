{
  "cells": [
    {
      "cell_type": "markdown",
      "metadata": {
        "nteract": {
          "transient": {
            "deleting": false
          }
        }
      },
      "source": [
        "### **01 - Incidence of MLTC**\n",
        "#### **01H02 - Manuscript outputs - all condition incidence by age - plots**"
      ]
    },
    {
      "cell_type": "markdown",
      "metadata": {
        "nteract": {
          "transient": {
            "deleting": false
          }
        }
      },
      "source": [
        "**Imports**"
      ]
    },
    {
      "cell_type": "code",
      "execution_count": 1,
      "metadata": {
        "jupyter": {
          "outputs_hidden": false,
          "source_hidden": false
        },
        "microsoft": {
          "language": "python"
        },
        "nteract": {
          "transient": {
            "deleting": false
          }
        }
      },
      "outputs": [],
      "source": [
        "%%pyspark\n",
        "# required imports\n",
        "\n",
        "# requires blank line after last import\n"
      ]
    },
    {
      "cell_type": "code",
      "execution_count": 3,
      "metadata": {
        "jupyter": {
          "outputs_hidden": false,
          "source_hidden": false
        },
        "microsoft": {
          "language": "r"
        },
        "nteract": {
          "transient": {
            "deleting": false
          }
        }
      },
      "outputs": [],
      "source": [
        "%%sparkr\n",
        "\n",
        "if (!requireNamespace(\"svglite\", quietly = TRUE)) {\n",
        "  install.packages(\"svglite\")\n",
        "}"
      ]
    },
    {
      "cell_type": "code",
      "execution_count": 4,
      "metadata": {
        "jupyter": {
          "outputs_hidden": false,
          "source_hidden": false
        },
        "nteract": {
          "transient": {
            "deleting": false
          }
        }
      },
      "outputs": [],
      "source": [
        "# Load necessary libraries\n",
        "library(SparkR)\n",
        "library(ggplot2)\n",
        "library(patchwork)\n",
        "library(svglite)"
      ]
    },
    {
      "cell_type": "markdown",
      "metadata": {
        "nteract": {
          "transient": {
            "deleting": false
          }
        }
      },
      "source": [
        "**Parameter cell**"
      ]
    },
    {
      "cell_type": "code",
      "execution_count": 5,
      "metadata": {
        "jupyter": {
          "outputs_hidden": false,
          "source_hidden": false
        },
        "microsoft": {
          "language": "python"
        },
        "nteract": {
          "transient": {
            "deleting": false
          }
        },
        "tags": [
          "parameters"
        ]
      },
      "outputs": [],
      "source": [
        "%%pyspark\n",
        "# parameter cell\n",
        "incidence_schema = \"\"  # \"mltc_incidence_outputs_v40_20230331\"\n",
        "\n",
        "# optional, can be blank\n"
      ]
    },
    {
      "cell_type": "code",
      "execution_count": 6,
      "metadata": {
        "jupyter": {
          "outputs_hidden": false,
          "source_hidden": false
        },
        "microsoft": {
          "language": "python"
        },
        "nteract": {
          "transient": {
            "deleting": false
          }
        }
      },
      "outputs": [],
      "source": [
        "%%pyspark\n",
        "# Set parameters in Spark configuration with 'param.' prefix (for use in SQL cells)\n",
        "spark.conf.set(\"param.incidence_schema\", incidence_schema)\n"
      ]
    },
    {
      "cell_type": "markdown",
      "metadata": {
        "nteract": {
          "transient": {
            "deleting": false
          }
        }
      },
      "source": [
        "---\n",
        "\n",
        "#### **01H02 - Manuscript outputs - all condition incidence by age - plots**\n",
        "\n",
        "This notebook produces a chart that combines plots for individual subsegments showing incidence by age and gender."
      ]
    },
    {
      "cell_type": "markdown",
      "metadata": {
        "nteract": {
          "transient": {
            "deleting": false
          }
        }
      },
      "source": [
        "**a - Load data**"
      ]
    },
    {
      "cell_type": "code",
      "execution_count": 7,
      "metadata": {
        "jupyter": {
          "outputs_hidden": false,
          "source_hidden": false
        },
        "nteract": {
          "transient": {
            "deleting": false
          }
        }
      },
      "outputs": [],
      "source": [
        "data <- sql(\"SELECT * FROM ${param.incidence_schema}.output_01h01_all_incidence_by_subsegment_and_age\")"
      ]
    },
    {
      "cell_type": "markdown",
      "metadata": {
        "nteract": {
          "transient": {
            "deleting": false
          }
        }
      },
      "source": [
        "**b - Create plot**"
      ]
    },
    {
      "cell_type": "code",
      "execution_count": 9,
      "metadata": {},
      "outputs": [],
      "source": [
        "# Convert incidence_rate to numeric\n",
        "data <- withColumn(data, \"incidence_rate\", cast(data$incidence_rate, \"double\"))\n",
        "\n",
        "# Update subsegment names\n",
        "data <- withColumn(data, \"subsegment\", regexp_replace(data$subsegment, \"_\", \" \"))\n",
        "data <- withColumn(data, \"subsegment\", regexp_replace(data$subsegment, \"Parkinsons Disease\", \"Parkinson's Disease\"))\n",
        "\n",
        "# Collect data to local R data frame for plotting\n",
        "local_data <- collect(data)\n",
        "\n",
        "# Split by subsegment to create a list of data frames\n",
        "data_list <- split(local_data, local_data$subsegment)\n",
        "\n",
        "# Initialize an empty list to store plots\n",
        "plots_list <- list()\n",
        "\n",
        "# Loop through each subsegment and create a plot\n",
        "for (i in seq_along(data_list)) {\n",
        "  \n",
        "  p <- ggplot(data_list[[i]], aes(x = age_band, y = incidence_rate, group = gender_description, color = gender_description)) +\n",
        "    geom_line() +\n",
        "    scale_color_manual(values = c(\"MALE\" = \"#4a86e8\", \"FEMALE\" = \"#dc3e5c\")) +\n",
        "    ylim(0, NA) +\n",
        "    labs(\n",
        "      title = names(data_list)[i],\n",
        "      x = \"Age\", \n",
        "      y = \"Incidence rate per 100,000\"\n",
        "    ) +\n",
        "    theme_minimal() +\n",
        "    theme(\n",
        "      text = element_text(size = 8, family = \"Helvetica\"),\n",
        "      plot.title = element_text(size = 8, hjust = 0.5, family = \"Helvetica\"),\n",
        "      axis.title = element_text(size = 6, family = \"Helvetica\"),\n",
        "      axis.text.x = element_text(size = 6, angle = 45, hjust = 1, family = \"Helvetica\"),\n",
        "      axis.text.y = element_text(size = 6, family = \"Helvetica\"),\n",
        "      legend.title = element_blank(),\n",
        "      legend.position = \"none\"\n",
        "    )\n",
        "  \n",
        "  plots_list[[i]] <- p\n",
        "}\n",
        "\n",
        "# Combine all plots into a single patchwork object and display\n",
        "plot_matrix <- wrap_plots(plots_list, ncol = 4)\n",
        "\n",
        "# Create a dummy plot for the legend\n",
        "legend_plot <- ggplot() + \n",
        "  geom_line(aes(y = c(1, 1), x = c(1, 1), color = \"MALE\"), show.legend = TRUE) +\n",
        "  geom_line(aes(y = c(1, 1), x = c(1, 1), color = \"FEMALE\"), show.legend = TRUE) +\n",
        "  scale_color_manual(values = c(\"MALE\" = \"#4a86e8\", \"FEMALE\" = \"#dc3e5c\")) +\n",
        "  theme_void() +\n",
        "  theme(\n",
        "    legend.position = \"bottom\",\n",
        "    legend.title = element_blank(),\n",
        "    text = element_text(family = \"Helvetica\")  # Ensuring legend text is also in Helvetica\n",
        "  ) +\n",
        "  guides(color = guide_legend(title = \"Gender\"))\n",
        "\n",
        "# Combine the plot matrix with the legend plot, adjusting layout to ensure the legend is at the bottom\n",
        "final_plot <- plot_matrix / legend_plot + \n",
        "  plot_layout(heights = c(1, 0.01))  # Adjust the second value as needed to control legend height\n",
        "\n",
        "# Display the final plot with the legend\n",
        "print(final_plot)"
      ]
    }
  ],
  "metadata": {
    "kernelspec": {
      "display_name": "r",
      "name": "synapse_sparkr"
    },
    "language_info": {
      "name": "r"
    },
    "save_output": true
  },
  "nbformat": 4,
  "nbformat_minor": 2
}

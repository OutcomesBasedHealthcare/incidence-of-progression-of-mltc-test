{
  "nbformat": 4,
  "nbformat_minor": 2,
  "cells": [
    {
      "cell_type": "markdown",
      "metadata": {
        "nteract": {
          "transient": {
            "deleting": false
          }
        }
      },
      "source": [
        "### **01 - Incidence of MLTC**\r\n",
        "#### **01E - Manuscript outputs - trend**"
      ]
    },
    {
      "cell_type": "markdown",
      "metadata": {
        "nteract": {
          "transient": {
            "deleting": false
          }
        }
      },
      "source": [
        "**Imports**"
      ]
    },
    {
      "cell_type": "code",
      "execution_count": 1,
      "outputs": [],
      "metadata": {
        "jupyter": {
          "source_hidden": false,
          "outputs_hidden": false
        },
        "nteract": {
          "transient": {
            "deleting": false
          }
        }
      },
      "source": [
        "# required imports\r\n",
        "\r\n",
        "# requires blank line after last import\r\n",
        ""
      ]
    },
    {
      "cell_type": "code",
      "execution_count": 2,
      "outputs": [],
      "metadata": {
        "jupyter": {
          "source_hidden": false,
          "outputs_hidden": false
        },
        "nteract": {
          "transient": {
            "deleting": false
          }
        },
        "microsoft": {
          "language": "r"
        }
      },
      "source": [
        "%%sparkr\r\n",
        "\r\n",
        "if (!requireNamespace(\"PHEindicatormethods\", quietly = TRUE)) {\r\n",
        "  install.packages(\"PHEindicatormethods\")\r\n",
        "}\r\n",
        "library(PHEindicatormethods)"
      ]
    },
    {
      "cell_type": "markdown",
      "metadata": {
        "nteract": {
          "transient": {
            "deleting": false
          }
        }
      },
      "source": [
        "**Parameter cell**"
      ]
    },
    {
      "cell_type": "code",
      "execution_count": 3,
      "outputs": [],
      "metadata": {
        "jupyter": {
          "source_hidden": false,
          "outputs_hidden": false
        },
        "nteract": {
          "transient": {
            "deleting": false
          }
        },
        "tags": [
          "parameters"
        ]
      },
      "source": [
        "# parameter cell\r\n",
        "incidence_schema = \"\"  # \"mltc_incidence_outputs_v40_20230331\"\r\n",
        "\r\n",
        "# optional, can be blank\r\n",
        ""
      ]
    },
    {
      "cell_type": "code",
      "execution_count": 4,
      "outputs": [],
      "metadata": {
        "jupyter": {
          "source_hidden": false,
          "outputs_hidden": false
        },
        "nteract": {
          "transient": {
            "deleting": false
          }
        }
      },
      "source": [
        "# Set parameters in Spark configuration with 'param.' prefix (for use in SQL cells)\r\n",
        "spark.conf.set(\"param.incidence_schema\", incidence_schema)\r\n",
        ""
      ]
    },
    {
      "cell_type": "markdown",
      "metadata": {
        "nteract": {
          "transient": {
            "deleting": false
          }
        }
      },
      "source": [
        "---\r\n",
        "\r\n",
        "#### **01E - Manuscript outputs - trend**\r\n",
        "\r\n",
        ""
      ]
    },
    {
      "cell_type": "markdown",
      "metadata": {
        "nteract": {
          "transient": {
            "deleting": false
          }
        }
      },
      "source": [
        "This notebook extracts the rate of progression from 1 to 2+ conditions by financial year\r\n",
        "\r\n",
        "**a - Create denominator person time temporary view**"
      ]
    },
    {
      "cell_type": "code",
      "execution_count": 5,
      "outputs": [],
      "metadata": {
        "jupyter": {
          "source_hidden": false,
          "outputs_hidden": false
        },
        "nteract": {
          "transient": {
            "deleting": false
          }
        },
        "microsoft": {
          "language": "sparksql"
        },
        "collapsed": false
      },
      "source": [
        "%%sql\r\n",
        "\r\n",
        "CREATE    OR REPLACE TEMPORARY VIEW overall_trend_denominator_combined AS\r\n",
        "SELECT    financial_year,\r\n",
        "          SUM(\r\n",
        "          CASE\r\n",
        "                    WHEN condition_count = 1 THEN person_years\r\n",
        "                    ELSE NULL\r\n",
        "          END\r\n",
        "          ) AS person_years_1\r\n",
        "FROM      ${param.incidence_schema}.mm_incidence_person_time m\r\n",
        "GROUP BY  financial_year"
      ]
    },
    {
      "cell_type": "markdown",
      "metadata": {
        "nteract": {
          "transient": {
            "deleting": false
          }
        }
      },
      "source": [
        "**b - Create numerator temporary view, including percentile ages that transition occur**"
      ]
    },
    {
      "cell_type": "code",
      "execution_count": 6,
      "outputs": [],
      "metadata": {
        "jupyter": {
          "source_hidden": false,
          "outputs_hidden": false
        },
        "nteract": {
          "transient": {
            "deleting": false
          }
        },
        "microsoft": {
          "language": "sparksql"
        },
        "collapsed": false
      },
      "source": [
        "%%sql\r\n",
        "\r\n",
        "CREATE    OR REPLACE TEMPORARY VIEW overall_trend_numerator_combined AS\r\n",
        "SELECT    financial_year,\r\n",
        "          perc_05,\r\n",
        "          perc_25,\r\n",
        "          perc_50,\r\n",
        "          perc_75,\r\n",
        "          perc_95,\r\n",
        "          COUNT(*) AS incidence_1_2_plus\r\n",
        "FROM      (\r\n",
        "          SELECT    financial_year,\r\n",
        "                    PERCENTILE_CONT (0.05) within GROUP (\r\n",
        "                    ORDER BY  age * 1.0\r\n",
        "                    ) OVER (\r\n",
        "                    PARTITION BY financial_year\r\n",
        "                    ) AS perc_05,\r\n",
        "                    PERCENTILE_CONT (0.25) within GROUP (\r\n",
        "                    ORDER BY  age * 1.0\r\n",
        "                    ) OVER (\r\n",
        "                    PARTITION BY financial_year\r\n",
        "                    ) AS perc_25,\r\n",
        "                    PERCENTILE_CONT (0.5) within GROUP (\r\n",
        "                    ORDER BY  age * 1.0\r\n",
        "                    ) OVER (\r\n",
        "                    PARTITION BY financial_year\r\n",
        "                    ) AS perc_50,\r\n",
        "                    PERCENTILE_CONT (0.75) within GROUP (\r\n",
        "                    ORDER BY  age * 1.0\r\n",
        "                    ) OVER (\r\n",
        "                    PARTITION BY financial_year\r\n",
        "                    ) AS perc_75,\r\n",
        "                    PERCENTILE_CONT (0.95) within GROUP (\r\n",
        "                    ORDER BY  age * 1.0\r\n",
        "                    ) OVER (\r\n",
        "                    PARTITION BY financial_year\r\n",
        "                    ) AS perc_95\r\n",
        "          FROM      ${param.incidence_schema}.mm_incidence_transitions_age\r\n",
        "          WHERE     previous_condition_count = 1\r\n",
        "          AND       condition_count >= 2\r\n",
        "          ) x\r\n",
        "GROUP BY  financial_year,\r\n",
        "          perc_05,\r\n",
        "          perc_25,\r\n",
        "          perc_50,\r\n",
        "          perc_75,\r\n",
        "          perc_95\r\n",
        "ORDER BY  financial_year,\r\n",
        "          perc_05,\r\n",
        "          perc_25,\r\n",
        "          perc_50,\r\n",
        "          perc_75,\r\n",
        "          perc_95"
      ]
    },
    {
      "cell_type": "markdown",
      "metadata": {
        "nteract": {
          "transient": {
            "deleting": false
          }
        }
      },
      "source": [
        "**c - Create combined output**"
      ]
    },
    {
      "cell_type": "code",
      "execution_count": 7,
      "outputs": [],
      "metadata": {
        "jupyter": {
          "source_hidden": false,
          "outputs_hidden": false
        },
        "nteract": {
          "transient": {
            "deleting": false
          }
        },
        "microsoft": {
          "language": "sparksql"
        },
        "collapsed": false
      },
      "source": [
        "%%sql\r\n",
        "\r\n",
        "CREATE    OR REPLACE TEMPORARY VIEW combined_output AS\r\n",
        "\r\n",
        "SELECT    d.financial_year,\r\n",
        "          incidence_1_2_plus,\r\n",
        "          person_years_1,\r\n",
        "          (incidence_1_2_plus * 1.0) / (person_years_1 * 1.0) * 100 AS progression_rate_1_2_plus,\r\n",
        "          perc_05,\r\n",
        "          perc_25,\r\n",
        "          perc_50,\r\n",
        "          perc_75,\r\n",
        "          perc_95\r\n",
        "FROM      overall_trend_numerator_combined n\r\n",
        "INNER     JOIN overall_trend_denominator_combined d on d.financial_year = n.financial_year"
      ]
    },
    {
      "cell_type": "markdown",
      "metadata": {
        "nteract": {
          "transient": {
            "deleting": false
          }
        }
      },
      "source": [
        "**d - Calculate confidence intervals using Byar's method**\r\n",
        "\r\n",
        "This section uses `PHEindicatormethods` package `phe_rate` function."
      ]
    },
    {
      "cell_type": "markdown",
      "metadata": {
        "nteract": {
          "transient": {
            "deleting": false
          }
        }
      },
      "source": [
        "Convert to RSpark DataFrame then R DataFrame"
      ]
    },
    {
      "cell_type": "code",
      "execution_count": 8,
      "outputs": [],
      "metadata": {
        "jupyter": {
          "source_hidden": false,
          "outputs_hidden": false
        },
        "nteract": {
          "transient": {
            "deleting": false
          }
        },
        "microsoft": {
          "language": "r"
        }
      },
      "source": [
        "%%sparkr\r\n",
        "\r\n",
        "df_combined_r <- sql(\"SELECT * FROM combined_output\")"
      ]
    },
    {
      "cell_type": "code",
      "execution_count": 9,
      "outputs": [],
      "metadata": {
        "jupyter": {
          "source_hidden": false,
          "outputs_hidden": false
        },
        "nteract": {
          "transient": {
            "deleting": false
          }
        },
        "microsoft": {
          "language": "r"
        }
      },
      "source": [
        "%%sparkr\r\n",
        "\r\n",
        "r_combined <- collect(df_combined_r)"
      ]
    },
    {
      "cell_type": "markdown",
      "metadata": {
        "nteract": {
          "transient": {
            "deleting": false
          }
        }
      },
      "source": [
        "Calculate crude rate and confidence intervals"
      ]
    },
    {
      "cell_type": "code",
      "execution_count": 10,
      "outputs": [],
      "metadata": {
        "jupyter": {
          "source_hidden": false,
          "outputs_hidden": false
        },
        "nteract": {
          "transient": {
            "deleting": false
          }
        },
        "microsoft": {
          "language": "r"
        }
      },
      "source": [
        "%%sparkr\r\n",
        "\r\n",
        "# Calculate rates with confidence intervals\r\n",
        "r_crude_rate_output <- phe_rate(\r\n",
        "  data = r_combined,\r\n",
        "  x = incidence_1_2_plus,\r\n",
        "  n = person_years_1,\r\n",
        "  multiplier = 100,\r\n",
        "  confidence = 0.95\r\n",
        ")\r\n",
        "\r\n",
        "# Convert the R DataFrame to a SparkR DataFrame\r\n",
        "df_r_crude_rate_output <- createDataFrame(r_crude_rate_output)\r\n",
        "\r\n",
        "# Save as a temporary view\r\n",
        "createOrReplaceTempView(df_r_crude_rate_output, \"r_crude_rate_output_view\")\r\n",
        ""
      ]
    },
    {
      "cell_type": "markdown",
      "metadata": {
        "nteract": {
          "transient": {
            "deleting": false
          }
        }
      },
      "source": [
        "**e - Apply small number suppression and export final table**\r\n",
        "\r\n",
        "<blockquote style=\"color: #D8000C; background-color: #FFD2D2; padding: 10px; border-left: 6px solid #D8000C;\">\r\n",
        "  <strong>⚠️ Warning:</strong> DROP TABLE is currently commented out, as this table does not need to be recreated each time the incidence analysis is run.\r\n",
        "</blockquote>"
      ]
    },
    {
      "cell_type": "code",
      "execution_count": null,
      "outputs": [],
      "metadata": {
        "jupyter": {
          "source_hidden": false,
          "outputs_hidden": false
        },
        "nteract": {
          "transient": {
            "deleting": false
          }
        },
        "microsoft": {
          "language": "sparksql"
        }
      },
      "source": [
        "%%sql\r\n",
        "\r\n",
        "--DROP TABLE IF EXISTS ${param.incidence_schema}.output_01E_incidence_results_trend"
      ]
    },
    {
      "cell_type": "code",
      "execution_count": 11,
      "outputs": [],
      "metadata": {
        "jupyter": {
          "source_hidden": false,
          "outputs_hidden": false
        },
        "nteract": {
          "transient": {
            "deleting": false
          }
        },
        "microsoft": {
          "language": "sparksql"
        },
        "collapsed": false
      },
      "source": [
        "%%sql\r\n",
        "\r\n",
        "CREATE    TABLE ${param.incidence_schema}.output_01E_incidence_results_trend USING PARQUET AS\r\n",
        "SELECT    financial_year,\r\n",
        "          CASE\r\n",
        "                    WHEN person_years_1 BETWEEN 1 AND 7  THEN '***'\r\n",
        "                    ELSE CAST(person_years_1 AS STRING)\r\n",
        "          END AS person_years_1,\r\n",
        "          CASE\r\n",
        "                    WHEN incidence_1_2_plus BETWEEN 1 AND 7  THEN '***'\r\n",
        "                    ELSE CAST(incidence_1_2_plus AS STRING)\r\n",
        "          END AS incidence_1_2_plus,\r\n",
        "          value as progression_rate_1_2_plus,\r\n",
        "          lowercl as lower_cl_1_2,\r\n",
        "          uppercl as upper_cl_1_2,\r\n",
        "          perc_05,\r\n",
        "          perc_25,\r\n",
        "          perc_50,\r\n",
        "          perc_75,\r\n",
        "          perc_95\r\n",
        "FROM      r_crude_rate_output_view\r\n",
        "ORDER BY  financial_year"
      ]
    },
    {
      "cell_type": "code",
      "execution_count": 12,
      "outputs": [],
      "metadata": {
        "jupyter": {
          "source_hidden": false,
          "outputs_hidden": false
        },
        "nteract": {
          "transient": {
            "deleting": false
          }
        },
        "microsoft": {
          "language": "sparksql"
        },
        "collapsed": false
      },
      "source": [
        "%%sql\r\n",
        "\r\n",
        "SELECT    *\r\n",
        "FROM      ${param.incidence_schema}.output_01E_incidence_results_trend"
      ]
    }
  ],
  "metadata": {
    "save_output": true,
    "kernelspec": {
      "name": "synapse_pyspark",
      "display_name": "Synapse PySpark"
    },
    "language_info": {
      "name": "python"
    }
  }
}
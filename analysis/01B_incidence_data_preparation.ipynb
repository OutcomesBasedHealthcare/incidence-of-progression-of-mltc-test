{
  "nbformat": 4,
  "nbformat_minor": 2,
  "metadata": {
    "kernelspec": {
      "name": "synapse_pyspark",
      "display_name": "Synapse PySpark"
    },
    "language_info": {
      "name": "python"
    },
    "save_output": true,
    "synapse_widget": {
      "version": "0.1",
      "state": {}
    }
  },
  "cells": [
    {
      "cell_type": "markdown",
      "metadata": {
        "nteract": {
          "transient": {
            "deleting": false
          }
        }
      },
      "source": [
        "### **01 - Incidence of MLTC**\r\n",
        "#### **01B - Data preparation**\r\n",
        ""
      ]
    },
    {
      "cell_type": "markdown",
      "metadata": {
        "nteract": {
          "transient": {
            "deleting": false
          }
        }
      },
      "source": [
        "**Imports**"
      ]
    },
    {
      "cell_type": "code",
      "execution_count": 1,
      "outputs": [],
      "metadata": {
        "jupyter": {
          "source_hidden": false,
          "outputs_hidden": false
        },
        "nteract": {
          "transient": {
            "deleting": false
          }
        }
      },
      "source": [
        "# required imports\r\n",
        "\r\n",
        "# requires blank line after last import\r\n",
        ""
      ]
    },
    {
      "cell_type": "markdown",
      "metadata": {
        "nteract": {
          "transient": {
            "deleting": false
          }
        }
      },
      "source": [
        "**Parameter cell**"
      ]
    },
    {
      "cell_type": "code",
      "execution_count": 2,
      "outputs": [],
      "metadata": {
        "jupyter": {
          "source_hidden": false,
          "outputs_hidden": false
        },
        "nteract": {
          "transient": {
            "deleting": false
          }
        },
        "tags": [
          "parameters"
        ]
      },
      "source": [
        "# parameter cell\r\n",
        "incidence_schema = \"\"  # \"mltc_incidence_outputs_v40_20230331\"\r\n",
        "segmentation_schema = \"\"  # \"obh_segmentation_v40_20230331\"\r\n",
        "pipeline_schema = \"\"  # \"pipeline_v40_20230331\"\r\n",
        "\r\n",
        "# optional, can be blank\r\n",
        ""
      ]
    },
    {
      "cell_type": "code",
      "execution_count": 3,
      "outputs": [],
      "metadata": {
        "jupyter": {
          "source_hidden": false,
          "outputs_hidden": false
        },
        "nteract": {
          "transient": {
            "deleting": false
          }
        }
      },
      "source": [
        "# Set parameters in Spark configuration with 'param.' prefix (for use in SQL cells)\r\n",
        "spark.conf.set(\"param.incidence_schema\", incidence_schema)\r\n",
        "spark.conf.set(\"param.segmentation_schema\", segmentation_schema)\r\n",
        "spark.conf.set(\"param.pipeline_schema\", pipeline_schema)\r\n",
        ""
      ]
    },
    {
      "cell_type": "markdown",
      "metadata": {
        "nteract": {
          "transient": {
            "deleting": false
          }
        }
      },
      "source": [
        "---\r\n",
        "\r\n",
        "#### **01B - Data preparation**\r\n",
        "\r\n",
        "This section creates interim tables from the Segmentation Dataset (and corresponding pipeline tables) used for the analyses below."
      ]
    },
    {
      "cell_type": "markdown",
      "metadata": {
        "nteract": {
          "transient": {
            "deleting": false
          }
        }
      },
      "source": [
        "**a - Extract all incidence changes that result in increases to the condition count**\r\n",
        "\r\n",
        "This section uses the pipeline subsegment combinations table, which contains one row per person, with mutually exclusive and continuous date ranges for the periods of time they spend in each unqiue combination of subsegments.\r\n",
        "\r\n",
        "**Note**\r\n",
        "- With the config changes above, due to the removal of certain subsegments, a person may have multiple rows for the same combination of subsegments\r\n",
        "- This can occur where the change between rows relates to a subsegment that is not included in the config\r\n",
        "- To handle this, the newly calculated `condition_count` (which reflects the selected subsegment config) is compared across rows for the same person\r\n",
        "- The logic looks for instances where the `condition_count` increases, based on the selected subsegments\r\n",
        "\r\n",
        "<blockquote style=\"color: #333333; background-color: #FFBF00; padding: 10px; border-left: 6px solid #C48800;\">\r\n",
        "  <strong>💡 TODO (EBT):</strong> Update table name and column names when refreshing to versions post-v4.0_20230331.\r\n",
        "</blockquote>\r\n",
        ""
      ]
    },
    {
      "cell_type": "code",
      "execution_count": 4,
      "outputs": [],
      "metadata": {
        "jupyter": {
          "source_hidden": false,
          "outputs_hidden": false
        },
        "nteract": {
          "transient": {
            "deleting": false
          }
        },
        "microsoft": {
          "language": "sparksql"
        },
        "collapsed": false
      },
      "source": [
        "%%sql\r\n",
        "\r\n",
        "CREATE    OR REPLACE TEMPORARY VIEW mm_incidence_transitions AS\r\n",
        "SELECT    *\r\n",
        "FROM      (\r\n",
        "          SELECT    nhs_number,\r\n",
        "                    person_id,\r\n",
        "                    pssc.subsegment_combination_id,\r\n",
        "                    ssc.new_subsegment_combination_name as subsegment_combination_name,\r\n",
        "                    ssc.new_condition_count as condition_count,\r\n",
        "                    pssc.start_date,\r\n",
        "                    pssc.end_date,\r\n",
        "                    LAG(pssc.subsegment_combination_id) OVER (\r\n",
        "                    PARTITION BY nhs_number\r\n",
        "                    ORDER BY  start_date,\r\n",
        "                              end_date\r\n",
        "                    ) AS previous_subsegment_combination_id,\r\n",
        "                    LAG(ssc.new_subsegment_combination_name) OVER (\r\n",
        "                    PARTITION BY nhs_number\r\n",
        "                    ORDER BY  start_date,\r\n",
        "                              end_date\r\n",
        "                    ) AS previous_subsegment_combination_name,\r\n",
        "                    LAG(ssc.new_condition_count) OVER (\r\n",
        "                    PARTITION BY nhs_number\r\n",
        "                    ORDER BY  start_date,\r\n",
        "                              end_date\r\n",
        "                    ) AS previous_condition_count\r\n",
        "          FROM      ${param.pipeline_schema}.py_8_pipeline_subsegment_combination pssc\r\n",
        "          INNER     JOIN ${param.incidence_schema}.dim_subsegment_combinations_config ssc ON ssc.old_subsegment_combination_id = pssc.subsegment_combination_id\r\n",
        "          ) x\r\n",
        "WHERE     condition_count > previous_condition_count -- NOTE - ignores backwards transitions\r\n",
        ""
      ]
    },
    {
      "cell_type": "markdown",
      "metadata": {
        "nteract": {
          "transient": {
            "deleting": false
          }
        }
      },
      "source": [
        "**b - Join to fact_model to get age and remove unregistered rows, and create transitions base table**\r\n",
        "\r\n",
        "**Run time**: ~10 min run time on medium\r\n",
        "\r\n",
        "**Output**: This is a person level table, containing one row for each incidence transition from a lower to higher condition count.\r\n",
        "\r\n",
        "**Note**: \r\n",
        "- `start_date`s from the previous section are at a daily precision level, rather than monthly\r\n",
        "- For this reason `LAST_DAY` is used to set these to the last day of the month, to allow for joining to the `fact_model` (which only contains a row per person for the end of each month)\r\n",
        "- A pragmatic cut off is applied where previous condition count is >= 9 - these are grouped into a single category to avoid low volumes\r\n",
        "- All analysis is restricted to adults aged 20+"
      ]
    },
    {
      "cell_type": "markdown",
      "metadata": {
        "nteract": {
          "transient": {
            "deleting": false
          }
        }
      },
      "source": [
        "<blockquote style=\"color: #D8000C; background-color: #FFD2D2; padding: 10px; border-left: 6px solid #D8000C;\">\r\n",
        "  <strong>⚠️ Warning:</strong> DROP TABLE is currently commented out, as this table does not need to be recreated each time the incidence analysis is run.\r\n",
        "</blockquote>"
      ]
    },
    {
      "cell_type": "code",
      "execution_count": 5,
      "outputs": [],
      "metadata": {
        "jupyter": {
          "source_hidden": false,
          "outputs_hidden": false
        },
        "nteract": {
          "transient": {
            "deleting": false
          }
        },
        "microsoft": {
          "language": "sparksql"
        },
        "collapsed": false
      },
      "source": [
        "%%sql\r\n",
        "\r\n",
        "--DROP TABLE IF EXISTS ${param.incidence_schema}.mm_incidence_transitions_age"
      ]
    },
    {
      "cell_type": "code",
      "execution_count": 7,
      "outputs": [],
      "metadata": {
        "jupyter": {
          "source_hidden": false,
          "outputs_hidden": false
        },
        "nteract": {
          "transient": {
            "deleting": false
          }
        },
        "microsoft": {
          "language": "sparksql"
        },
        "collapsed": false
      },
      "source": [
        "%%sql\r\n",
        "\r\n",
        "CREATE    TABLE ${param.incidence_schema}.mm_incidence_transitions_age USING PARQUET AS\r\n",
        "SELECT    f.date_id AS transition_month_date_id,\r\n",
        "          d.financial_year,\r\n",
        "          CASE\r\n",
        "                    WHEN previous_condition_count > 9 THEN 9\r\n",
        "                    ELSE previous_condition_count\r\n",
        "          END AS previous_condition_count,\r\n",
        "          CASE\r\n",
        "                    WHEN condition_count > 10 THEN 10\r\n",
        "                    ELSE condition_count\r\n",
        "          END AS condition_count,\r\n",
        "          p.person_id,\r\n",
        "          p.pseudo_nhs_number,\r\n",
        "          f.age_id AS age,\r\n",
        "          CASE WHEN a.ten_year IN ('90-99','100-109','110-119') THEN '90+' ELSE a.ten_year END as age_band,\r\n",
        "          p.gender_description,\r\n",
        "          p.imd_quintile,\r\n",
        "          e.census_2011_ethnic_group,\r\n",
        "          t.previous_subsegment_combination_id,\r\n",
        "          t.subsegment_combination_id\r\n",
        "FROM      mm_incidence_transitions t\r\n",
        "INNER     JOIN ${param.segmentation_schema}.dim_person p ON p.person_id = t.person_id\r\n",
        "INNER     JOIN ${param.segmentation_schema}.dim_ethnicity e ON e.ethnicity_id = p.ethnicity_id\r\n",
        "INNER     JOIN ${param.segmentation_schema}.dim_date d ON d.date = LAST_DAY(t.start_date)\r\n",
        "INNER     JOIN ${param.segmentation_schema}.fact_model f ON f.person_id = p.person_id\r\n",
        "AND       d.date_id = f.date_id\r\n",
        "INNER     JOIN ${param.segmentation_schema}.dim_age a ON a.age_id = f.age_id\r\n",
        "WHERE     f.gp_id IS NOT NULL\r\n",
        "AND       f.age_id>=20\r\n",
        ""
      ]
    },
    {
      "cell_type": "markdown",
      "metadata": {
        "nteract": {
          "transient": {
            "deleting": false
          }
        }
      },
      "source": [
        "**c - Create denominator person time base table**\r\n",
        "\r\n",
        "**Run time**: ~22 mins\r\n",
        "\r\n",
        "**Output**: This is an aggregate table, containing one row for the person years associated with each combination of filters.\r\n",
        "\r\n",
        ""
      ]
    },
    {
      "cell_type": "markdown",
      "metadata": {
        "nteract": {
          "transient": {
            "deleting": false
          }
        }
      },
      "source": [
        "<blockquote style=\"color: #D8000C; background-color: #FFD2D2; padding: 10px; border-left: 6px solid #D8000C;\">\r\n",
        "  <strong>⚠️ Warning:</strong> DROP TABLE is currently commented out, as this table does not need to be recreated each time the incidence analysis is run.\r\n",
        "</blockquote>"
      ]
    },
    {
      "cell_type": "code",
      "execution_count": 4,
      "outputs": [],
      "metadata": {
        "jupyter": {
          "source_hidden": false,
          "outputs_hidden": false
        },
        "nteract": {
          "transient": {
            "deleting": false
          }
        },
        "microsoft": {
          "language": "sparksql"
        },
        "collapsed": false
      },
      "source": [
        "%%sql\r\n",
        "\r\n",
        "--DROP TABLE IF EXISTS ${param.incidence_schema}.mm_incidence_person_time"
      ]
    },
    {
      "cell_type": "code",
      "execution_count": 5,
      "outputs": [],
      "metadata": {
        "jupyter": {
          "source_hidden": false,
          "outputs_hidden": false
        },
        "nteract": {
          "transient": {
            "deleting": false
          }
        },
        "microsoft": {
          "language": "sparksql"
        },
        "collapsed": false
      },
      "source": [
        "%%sql \r\n",
        "\r\n",
        "CREATE TABLE ${param.incidence_schema}.mm_incidence_person_time USING PARQUET AS\r\n",
        "\r\n",
        "SELECT    financial_year,\r\n",
        "          CASE\r\n",
        "                    WHEN new_condition_count > 10 THEN 10\r\n",
        "                    ELSE new_condition_count\r\n",
        "          END AS condition_count,\r\n",
        "          CASE WHEN a.ten_year IN ('90-99','100-109','110-119') THEN '90+' ELSE a.ten_year END as age_band,\r\n",
        "          p.gender_description,\r\n",
        "          p.imd_quintile,\r\n",
        "          e.census_2011_ethnic_group,\r\n",
        "          COUNT(CASE WHEN d.last_day_of_financial_year = 1 THEN 1 ELSE NULL END) AS unique_people_fy_end,\r\n",
        "          SUM(d.month_financial_year_fraction) AS person_years\r\n",
        "FROM      ${param.segmentation_schema}.fact_model f\r\n",
        "INNER     JOIN ${param.incidence_schema}.dim_subsegment_combinations_config ssc ON ssc.old_subsegment_combination_id = f.subsegment_combination_id\r\n",
        "INNER     JOIN ${param.segmentation_schema}.dim_date d ON d.date_id = f.date_id\r\n",
        "INNER     JOIN ${param.segmentation_schema}.dim_person p ON p.person_id = f.person_id\r\n",
        "INNER     JOIN ${param.segmentation_schema}.dim_ethnicity e ON e.ethnicity_id = p.ethnicity_id\r\n",
        "INNER     JOIN ${param.segmentation_schema}.dim_age a ON a.age_id = f.age_id\r\n",
        "WHERE     f.gp_id IS NOT NULL\r\n",
        "AND       f.age_id>=20\r\n",
        "GROUP BY  financial_year,\r\n",
        "          CASE\r\n",
        "                    WHEN new_condition_count > 10 THEN 10\r\n",
        "                    ELSE new_condition_count\r\n",
        "          END,          \r\n",
        "          CASE WHEN a.ten_year IN ('90-99','100-109','110-119') THEN '90+' ELSE a.ten_year END,\r\n",
        "          p.gender_description,\r\n",
        "          p.imd_quintile,\r\n",
        "          e.census_2011_ethnic_group\r\n",
        ""
      ]
    }
  ]
}
{
  "cells": [
    {
      "cell_type": "markdown",
      "metadata": {
        "nteract": {
          "transient": {
            "deleting": false
          }
        }
      },
      "source": [
        "### **01 - Incidence of MLTC**\n",
        "#### **01E - Manuscript outputs - trend**\n",
        "\n",
        "**Chart**: Trend of progression to MLTC"
      ]
    },
    {
      "cell_type": "markdown",
      "metadata": {
        "nteract": {
          "transient": {
            "deleting": false
          }
        }
      },
      "source": [
        "**Imports**"
      ]
    },
    {
      "cell_type": "code",
      "execution_count": 1,
      "metadata": {
        "jupyter": {
          "outputs_hidden": false,
          "source_hidden": false
        },
        "microsoft": {
          "language": "python"
        },
        "nteract": {
          "transient": {
            "deleting": false
          }
        }
      },
      "outputs": [],
      "source": [
        "%%pyspark\n",
        "# required imports\n",
        "\n",
        "# requires blank line after last import\n"
      ]
    },
    {
      "cell_type": "code",
      "execution_count": 2,
      "metadata": {
        "jupyter": {
          "outputs_hidden": false,
          "source_hidden": false
        },
        "microsoft": {
          "language": "r"
        },
        "nteract": {
          "transient": {
            "deleting": false
          }
        }
      },
      "outputs": [],
      "source": [
        "%%sparkr\n",
        "\n",
        "if (!requireNamespace(\"svglite\", quietly = TRUE)) {\n",
        "  install.packages(\"svglite\")\n",
        "}"
      ]
    },
    {
      "cell_type": "code",
      "execution_count": 3,
      "metadata": {
        "jupyter": {
          "outputs_hidden": false,
          "source_hidden": false
        },
        "nteract": {
          "transient": {
            "deleting": false
          }
        }
      },
      "outputs": [],
      "source": [
        "# Load necessary libraries\n",
        "library(SparkR)\n",
        "library(ggplot2)\n",
        "library(patchwork)\n",
        "library(svglite)"
      ]
    },
    {
      "cell_type": "markdown",
      "metadata": {
        "nteract": {
          "transient": {
            "deleting": false
          }
        }
      },
      "source": [
        "**Parameter cell**\n",
        "\n",
        "<blockquote style=\"color: #D8000C; background-color: #FFD2D2; padding: 10px; border-left: 6px solid #D8000C;\">\n",
        "  <strong>⚠️ Warning:</strong> selected financial years are hard-coded below, make sure to update these if required.\n",
        "</blockquote>"
      ]
    },
    {
      "cell_type": "code",
      "execution_count": 4,
      "metadata": {
        "jupyter": {
          "outputs_hidden": false,
          "source_hidden": false
        },
        "microsoft": {
          "language": "python"
        },
        "nteract": {
          "transient": {
            "deleting": false
          }
        },
        "tags": [
          "parameters"
        ]
      },
      "outputs": [],
      "source": [
        "%%pyspark\n",
        "# parameter cell\n",
        "incidence_schema = \"\"  # \"mltc_incidence_outputs_v40_20230331\"\n",
        "\n",
        "# optional, can be blank\n"
      ]
    },
    {
      "cell_type": "code",
      "execution_count": 5,
      "metadata": {
        "jupyter": {
          "outputs_hidden": false,
          "source_hidden": false
        },
        "microsoft": {
          "language": "python"
        },
        "nteract": {
          "transient": {
            "deleting": false
          }
        }
      },
      "outputs": [],
      "source": [
        "%%pyspark\n",
        "# Set parameters in Spark configuration with 'param.' prefix (for use in SQL cells)\n",
        "spark.conf.set(\"param.incidence_schema\", incidence_schema)\n"
      ]
    },
    {
      "cell_type": "markdown",
      "metadata": {
        "nteract": {
          "transient": {
            "deleting": false
          }
        }
      },
      "source": [
        "---\n",
        "\n",
        "#### **Creating the plot**"
      ]
    },
    {
      "cell_type": "markdown",
      "metadata": {
        "nteract": {
          "transient": {
            "deleting": false
          }
        }
      },
      "source": [
        "**a - Load data**"
      ]
    },
    {
      "cell_type": "code",
      "execution_count": 6,
      "metadata": {
        "jupyter": {
          "outputs_hidden": false,
          "source_hidden": false
        },
        "nteract": {
          "transient": {
            "deleting": false
          }
        }
      },
      "outputs": [],
      "source": [
        "data <- sql(\"SELECT * FROM ${param.incidence_schema}.output_01E_incidence_results_trend\")"
      ]
    },
    {
      "cell_type": "code",
      "execution_count": 7,
      "metadata": {
        "collapsed": false,
        "jupyter": {
          "outputs_hidden": false,
          "source_hidden": false
        },
        "microsoft": {
          "language": "sparksql"
        },
        "nteract": {
          "transient": {
            "deleting": false
          }
        }
      },
      "outputs": [],
      "source": [
        "%%sql\n",
        "SELECT * FROM ${param.incidence_schema}.output_01E_incidence_results_trend"
      ]
    },
    {
      "cell_type": "markdown",
      "metadata": {
        "nteract": {
          "transient": {
            "deleting": false
          }
        }
      },
      "source": [
        "**b - Create plot**"
      ]
    },
    {
      "cell_type": "markdown",
      "metadata": {
        "nteract": {
          "transient": {
            "deleting": false
          }
        }
      },
      "source": [
        "Create charts"
      ]
    },
    {
      "cell_type": "code",
      "execution_count": 34,
      "metadata": {
        "jupyter": {
          "outputs_hidden": false,
          "source_hidden": false
        },
        "nteract": {
          "transient": {
            "deleting": false
          }
        }
      },
      "outputs": [],
      "source": [
        "# Convert Spark DataFrame to R DataFrame for ggplot2\n",
        "data_local <- collect(data)\n",
        "\n",
        "# Convert financial_year to a factor\n",
        "data_local$financial_year <- as.factor(data_local$financial_year)\n",
        "\n",
        "# Remove NAs if they exist\n",
        "data_local <- na.omit(data_local)\n",
        "\n",
        "# Exclude 2016/17 data due to potential register effect\n",
        "data_local <- subset(data_local, financial_year != \"2016/17\")\n",
        "\n",
        "# Ensure correct levels for later ordering\n",
        "data_local$financial_year <- factor(data_local$financial_year, levels = c(\"2017/18\", \"2018/19\", \"2019/20\", \"2020/21\", \"2021/22\", \"2022/23\"))\n"
      ]
    },
    {
      "cell_type": "code",
      "execution_count": 35,
      "metadata": {
        "jupyter": {
          "outputs_hidden": false,
          "source_hidden": false
        },
        "nteract": {
          "transient": {
            "deleting": false
          }
        }
      },
      "outputs": [],
      "source": [
        "# Create the bar chart for progression_rate_1_2_plus\n",
        "bar_chart <- ggplot(data_local, aes(x = financial_year, y = progression_rate_1_2_plus)) +\n",
        "  geom_bar(stat = \"identity\", fill = \"#6cb1beff\", width = 0.7) +\n",
        "  geom_errorbar(aes(ymin = lower_cl_1_2, ymax = upper_cl_1_2), width = 0.2) +\n",
        "  geom_text(\n",
        "    aes(label = formatC(round(progression_rate_1_2_plus, 1), format = \"f\", big.mark = \",\", digits = 1)),\n",
        "    vjust = 3,\n",
        "    color = \"white\",\n",
        "    fontface = \"bold\",\n",
        "    size = 8\n",
        "  ) +\n",
        "  labs(title = NULL, y = \"Progression rate (from 1 to 2+ conditions) per 100 person years\", x = NULL) +\n",
        "  theme_minimal() +\n",
        "  theme(\n",
        "    text = element_text(family = \"Helvetica\"),\n",
        "    axis.title = element_text(size = 25, margin = margin(t = 20, r = 20, b = 20, l = 20)),\n",
        "    axis.text = element_text(size = 25, margin = margin(t = 20, r = 20, b = 20, l = 20)),\n",
        "    panel.grid.minor = element_blank()\n",
        "  )\n",
        "\n",
        "# Create the box plot\n",
        "box_plot <- ggplot(data_local, aes(x = financial_year)) +\n",
        "  geom_boxplot(\n",
        "    aes(\n",
        "      ymin = perc_05,\n",
        "      lower = perc_25,\n",
        "      middle = perc_50,\n",
        "      upper = perc_75,\n",
        "      ymax = perc_95\n",
        "    ),\n",
        "    stat = \"identity\",\n",
        "    fill = \"#a7d0d8ff\",\n",
        "    color = \"#6cb1beff\",\n",
        "    whisker.linetype = \"solid\",\n",
        "    whisker.size = 0.5\n",
        "  ) +\n",
        "  geom_segment(aes(x = as.numeric(financial_year) - 0.3, xend = as.numeric(financial_year) + 0.3, y = perc_05, yend = perc_05), color = \"black\") +\n",
        "  geom_segment(aes(x = as.numeric(financial_year) - 0.3, xend = as.numeric(financial_year) + 0.3, y = perc_95, yend = perc_95), color = \"black\") +\n",
        "  geom_text(aes(y = perc_50, label = round(perc_50, 2)), vjust = 3, color = \"#5fa3b1\", fontface = \"bold\", size = 8) +\n",
        "  labs(title = NULL, y = \"Age (years) at progression from 1 to 2+ conditions\", x = NULL) +\n",
        "  theme_minimal() +\n",
        "  theme(\n",
        "    text = element_text(family = \"Helvetica\"),\n",
        "    axis.title = element_text(size = 25, margin = margin(t = 20, r = 20, b = 20, l = 20)),\n",
        "    axis.text = element_text(size = 25, margin = margin(t = 20, r = 20, b = 20, l = 20)),\n",
        "    panel.grid.minor = element_blank()\n",
        "  )\n",
        "\n",
        "# Combine the plots using patchwork with added spacing\n",
        "final_plot <- bar_chart / box_plot + plot_layout(heights = c(1, 1), ncol = 1)\n",
        "\n",
        "# Display the combined plot\n",
        "print(final_plot)"
      ]
    }
  ],
  "metadata": {
    "kernelspec": {
      "display_name": "r",
      "name": "synapse_sparkr"
    },
    "language_info": {
      "name": "r"
    },
    "save_output": true
  },
  "nbformat": 4,
  "nbformat_minor": 2
}
